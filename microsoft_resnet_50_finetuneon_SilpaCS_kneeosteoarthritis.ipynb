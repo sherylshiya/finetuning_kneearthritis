{
  "nbformat": 4,
  "nbformat_minor": 0,
  "metadata": {
    "colab": {
      "provenance": [],
      "gpuType": "T4"
    },
    "kernelspec": {
      "name": "python3",
      "display_name": "Python 3"
    },
    "language_info": {
      "name": "python"
    },
    "accelerator": "GPU",
    "widgets": {
      "application/vnd.jupyter.widget-state+json": {
        "15b61c42a0ad4f7ba6cc459df22e0bba": {
          "model_module": "@jupyter-widgets/controls",
          "model_name": "HBoxModel",
          "model_module_version": "1.5.0",
          "state": {
            "_dom_classes": [],
            "_model_module": "@jupyter-widgets/controls",
            "_model_module_version": "1.5.0",
            "_model_name": "HBoxModel",
            "_view_count": null,
            "_view_module": "@jupyter-widgets/controls",
            "_view_module_version": "1.5.0",
            "_view_name": "HBoxView",
            "box_style": "",
            "children": [
              "IPY_MODEL_0edbab63b8b1445f9c114a6f7cbff140",
              "IPY_MODEL_b1d3a4f049794dc88fb8774bafa7fa41",
              "IPY_MODEL_3b98cec82ee443228ddb9a4010509d00"
            ],
            "layout": "IPY_MODEL_635ffc0676424f08bafd2080cc93ecd8"
          }
        },
        "0edbab63b8b1445f9c114a6f7cbff140": {
          "model_module": "@jupyter-widgets/controls",
          "model_name": "HTMLModel",
          "model_module_version": "1.5.0",
          "state": {
            "_dom_classes": [],
            "_model_module": "@jupyter-widgets/controls",
            "_model_module_version": "1.5.0",
            "_model_name": "HTMLModel",
            "_view_count": null,
            "_view_module": "@jupyter-widgets/controls",
            "_view_module_version": "1.5.0",
            "_view_name": "HTMLView",
            "description": "",
            "description_tooltip": null,
            "layout": "IPY_MODEL_bd4102c2a44f48faa74d8c226a22f37c",
            "placeholder": "​",
            "style": "IPY_MODEL_af931a2da9464b35a01ba50cf169a37c",
            "value": "Downloading readme: 100%"
          }
        },
        "b1d3a4f049794dc88fb8774bafa7fa41": {
          "model_module": "@jupyter-widgets/controls",
          "model_name": "FloatProgressModel",
          "model_module_version": "1.5.0",
          "state": {
            "_dom_classes": [],
            "_model_module": "@jupyter-widgets/controls",
            "_model_module_version": "1.5.0",
            "_model_name": "FloatProgressModel",
            "_view_count": null,
            "_view_module": "@jupyter-widgets/controls",
            "_view_module_version": "1.5.0",
            "_view_name": "ProgressView",
            "bar_style": "success",
            "description": "",
            "description_tooltip": null,
            "layout": "IPY_MODEL_1f3af4f2187f40668a00fc3e93b996c7",
            "max": 62,
            "min": 0,
            "orientation": "horizontal",
            "style": "IPY_MODEL_4e9ddcf0298f41759e0e238c414d03a1",
            "value": 62
          }
        },
        "3b98cec82ee443228ddb9a4010509d00": {
          "model_module": "@jupyter-widgets/controls",
          "model_name": "HTMLModel",
          "model_module_version": "1.5.0",
          "state": {
            "_dom_classes": [],
            "_model_module": "@jupyter-widgets/controls",
            "_model_module_version": "1.5.0",
            "_model_name": "HTMLModel",
            "_view_count": null,
            "_view_module": "@jupyter-widgets/controls",
            "_view_module_version": "1.5.0",
            "_view_name": "HTMLView",
            "description": "",
            "description_tooltip": null,
            "layout": "IPY_MODEL_990195b921dc4c34aed610dafd256b6e",
            "placeholder": "​",
            "style": "IPY_MODEL_969e6d4fd5654f148e14d1ddf87ff0de",
            "value": " 62.0/62.0 [00:00&lt;00:00, 397B/s]"
          }
        },
        "635ffc0676424f08bafd2080cc93ecd8": {
          "model_module": "@jupyter-widgets/base",
          "model_name": "LayoutModel",
          "model_module_version": "1.2.0",
          "state": {
            "_model_module": "@jupyter-widgets/base",
            "_model_module_version": "1.2.0",
            "_model_name": "LayoutModel",
            "_view_count": null,
            "_view_module": "@jupyter-widgets/base",
            "_view_module_version": "1.2.0",
            "_view_name": "LayoutView",
            "align_content": null,
            "align_items": null,
            "align_self": null,
            "border": null,
            "bottom": null,
            "display": null,
            "flex": null,
            "flex_flow": null,
            "grid_area": null,
            "grid_auto_columns": null,
            "grid_auto_flow": null,
            "grid_auto_rows": null,
            "grid_column": null,
            "grid_gap": null,
            "grid_row": null,
            "grid_template_areas": null,
            "grid_template_columns": null,
            "grid_template_rows": null,
            "height": null,
            "justify_content": null,
            "justify_items": null,
            "left": null,
            "margin": null,
            "max_height": null,
            "max_width": null,
            "min_height": null,
            "min_width": null,
            "object_fit": null,
            "object_position": null,
            "order": null,
            "overflow": null,
            "overflow_x": null,
            "overflow_y": null,
            "padding": null,
            "right": null,
            "top": null,
            "visibility": null,
            "width": null
          }
        },
        "bd4102c2a44f48faa74d8c226a22f37c": {
          "model_module": "@jupyter-widgets/base",
          "model_name": "LayoutModel",
          "model_module_version": "1.2.0",
          "state": {
            "_model_module": "@jupyter-widgets/base",
            "_model_module_version": "1.2.0",
            "_model_name": "LayoutModel",
            "_view_count": null,
            "_view_module": "@jupyter-widgets/base",
            "_view_module_version": "1.2.0",
            "_view_name": "LayoutView",
            "align_content": null,
            "align_items": null,
            "align_self": null,
            "border": null,
            "bottom": null,
            "display": null,
            "flex": null,
            "flex_flow": null,
            "grid_area": null,
            "grid_auto_columns": null,
            "grid_auto_flow": null,
            "grid_auto_rows": null,
            "grid_column": null,
            "grid_gap": null,
            "grid_row": null,
            "grid_template_areas": null,
            "grid_template_columns": null,
            "grid_template_rows": null,
            "height": null,
            "justify_content": null,
            "justify_items": null,
            "left": null,
            "margin": null,
            "max_height": null,
            "max_width": null,
            "min_height": null,
            "min_width": null,
            "object_fit": null,
            "object_position": null,
            "order": null,
            "overflow": null,
            "overflow_x": null,
            "overflow_y": null,
            "padding": null,
            "right": null,
            "top": null,
            "visibility": null,
            "width": null
          }
        },
        "af931a2da9464b35a01ba50cf169a37c": {
          "model_module": "@jupyter-widgets/controls",
          "model_name": "DescriptionStyleModel",
          "model_module_version": "1.5.0",
          "state": {
            "_model_module": "@jupyter-widgets/controls",
            "_model_module_version": "1.5.0",
            "_model_name": "DescriptionStyleModel",
            "_view_count": null,
            "_view_module": "@jupyter-widgets/base",
            "_view_module_version": "1.2.0",
            "_view_name": "StyleView",
            "description_width": ""
          }
        },
        "1f3af4f2187f40668a00fc3e93b996c7": {
          "model_module": "@jupyter-widgets/base",
          "model_name": "LayoutModel",
          "model_module_version": "1.2.0",
          "state": {
            "_model_module": "@jupyter-widgets/base",
            "_model_module_version": "1.2.0",
            "_model_name": "LayoutModel",
            "_view_count": null,
            "_view_module": "@jupyter-widgets/base",
            "_view_module_version": "1.2.0",
            "_view_name": "LayoutView",
            "align_content": null,
            "align_items": null,
            "align_self": null,
            "border": null,
            "bottom": null,
            "display": null,
            "flex": null,
            "flex_flow": null,
            "grid_area": null,
            "grid_auto_columns": null,
            "grid_auto_flow": null,
            "grid_auto_rows": null,
            "grid_column": null,
            "grid_gap": null,
            "grid_row": null,
            "grid_template_areas": null,
            "grid_template_columns": null,
            "grid_template_rows": null,
            "height": null,
            "justify_content": null,
            "justify_items": null,
            "left": null,
            "margin": null,
            "max_height": null,
            "max_width": null,
            "min_height": null,
            "min_width": null,
            "object_fit": null,
            "object_position": null,
            "order": null,
            "overflow": null,
            "overflow_x": null,
            "overflow_y": null,
            "padding": null,
            "right": null,
            "top": null,
            "visibility": null,
            "width": null
          }
        },
        "4e9ddcf0298f41759e0e238c414d03a1": {
          "model_module": "@jupyter-widgets/controls",
          "model_name": "ProgressStyleModel",
          "model_module_version": "1.5.0",
          "state": {
            "_model_module": "@jupyter-widgets/controls",
            "_model_module_version": "1.5.0",
            "_model_name": "ProgressStyleModel",
            "_view_count": null,
            "_view_module": "@jupyter-widgets/base",
            "_view_module_version": "1.2.0",
            "_view_name": "StyleView",
            "bar_color": null,
            "description_width": ""
          }
        },
        "990195b921dc4c34aed610dafd256b6e": {
          "model_module": "@jupyter-widgets/base",
          "model_name": "LayoutModel",
          "model_module_version": "1.2.0",
          "state": {
            "_model_module": "@jupyter-widgets/base",
            "_model_module_version": "1.2.0",
            "_model_name": "LayoutModel",
            "_view_count": null,
            "_view_module": "@jupyter-widgets/base",
            "_view_module_version": "1.2.0",
            "_view_name": "LayoutView",
            "align_content": null,
            "align_items": null,
            "align_self": null,
            "border": null,
            "bottom": null,
            "display": null,
            "flex": null,
            "flex_flow": null,
            "grid_area": null,
            "grid_auto_columns": null,
            "grid_auto_flow": null,
            "grid_auto_rows": null,
            "grid_column": null,
            "grid_gap": null,
            "grid_row": null,
            "grid_template_areas": null,
            "grid_template_columns": null,
            "grid_template_rows": null,
            "height": null,
            "justify_content": null,
            "justify_items": null,
            "left": null,
            "margin": null,
            "max_height": null,
            "max_width": null,
            "min_height": null,
            "min_width": null,
            "object_fit": null,
            "object_position": null,
            "order": null,
            "overflow": null,
            "overflow_x": null,
            "overflow_y": null,
            "padding": null,
            "right": null,
            "top": null,
            "visibility": null,
            "width": null
          }
        },
        "969e6d4fd5654f148e14d1ddf87ff0de": {
          "model_module": "@jupyter-widgets/controls",
          "model_name": "DescriptionStyleModel",
          "model_module_version": "1.5.0",
          "state": {
            "_model_module": "@jupyter-widgets/controls",
            "_model_module_version": "1.5.0",
            "_model_name": "DescriptionStyleModel",
            "_view_count": null,
            "_view_module": "@jupyter-widgets/base",
            "_view_module_version": "1.2.0",
            "_view_name": "StyleView",
            "description_width": ""
          }
        },
        "7fb7bd53a9e849cdbc4b7765b5d340c3": {
          "model_module": "@jupyter-widgets/controls",
          "model_name": "HBoxModel",
          "model_module_version": "1.5.0",
          "state": {
            "_dom_classes": [],
            "_model_module": "@jupyter-widgets/controls",
            "_model_module_version": "1.5.0",
            "_model_name": "HBoxModel",
            "_view_count": null,
            "_view_module": "@jupyter-widgets/controls",
            "_view_module_version": "1.5.0",
            "_view_name": "HBoxView",
            "box_style": "",
            "children": [
              "IPY_MODEL_e944fa093ceb41b589ea9776977b3d1b",
              "IPY_MODEL_cb8af44553694c289983d2d258a9c182",
              "IPY_MODEL_f13bc75d70ee4da68ed578ee37f3f25a"
            ],
            "layout": "IPY_MODEL_586ba6d79d904c569fa9228580a5a18c"
          }
        },
        "e944fa093ceb41b589ea9776977b3d1b": {
          "model_module": "@jupyter-widgets/controls",
          "model_name": "HTMLModel",
          "model_module_version": "1.5.0",
          "state": {
            "_dom_classes": [],
            "_model_module": "@jupyter-widgets/controls",
            "_model_module_version": "1.5.0",
            "_model_name": "HTMLModel",
            "_view_count": null,
            "_view_module": "@jupyter-widgets/controls",
            "_view_module_version": "1.5.0",
            "_view_name": "HTMLView",
            "description": "",
            "description_tooltip": null,
            "layout": "IPY_MODEL_f60d01ce557e4394ae499d429920a7c8",
            "placeholder": "​",
            "style": "IPY_MODEL_f43d96dfa9374157bb1112336cb99485",
            "value": "Downloading data: 100%"
          }
        },
        "cb8af44553694c289983d2d258a9c182": {
          "model_module": "@jupyter-widgets/controls",
          "model_name": "FloatProgressModel",
          "model_module_version": "1.5.0",
          "state": {
            "_dom_classes": [],
            "_model_module": "@jupyter-widgets/controls",
            "_model_module_version": "1.5.0",
            "_model_name": "FloatProgressModel",
            "_view_count": null,
            "_view_module": "@jupyter-widgets/controls",
            "_view_module_version": "1.5.0",
            "_view_name": "ProgressView",
            "bar_style": "success",
            "description": "",
            "description_tooltip": null,
            "layout": "IPY_MODEL_38591d68874446ae8a4637ecabcb72bf",
            "max": 180439979,
            "min": 0,
            "orientation": "horizontal",
            "style": "IPY_MODEL_f5da154ab7c44e6cb00aee64677750a1",
            "value": 180439979
          }
        },
        "f13bc75d70ee4da68ed578ee37f3f25a": {
          "model_module": "@jupyter-widgets/controls",
          "model_name": "HTMLModel",
          "model_module_version": "1.5.0",
          "state": {
            "_dom_classes": [],
            "_model_module": "@jupyter-widgets/controls",
            "_model_module_version": "1.5.0",
            "_model_name": "HTMLModel",
            "_view_count": null,
            "_view_module": "@jupyter-widgets/controls",
            "_view_module_version": "1.5.0",
            "_view_name": "HTMLView",
            "description": "",
            "description_tooltip": null,
            "layout": "IPY_MODEL_573e9b82571148ccbdb534ac05b24b46",
            "placeholder": "​",
            "style": "IPY_MODEL_c44811bbb2274ad8adf29ddd4fc2b210",
            "value": " 180M/180M [00:01&lt;00:00, 133MB/s]"
          }
        },
        "586ba6d79d904c569fa9228580a5a18c": {
          "model_module": "@jupyter-widgets/base",
          "model_name": "LayoutModel",
          "model_module_version": "1.2.0",
          "state": {
            "_model_module": "@jupyter-widgets/base",
            "_model_module_version": "1.2.0",
            "_model_name": "LayoutModel",
            "_view_count": null,
            "_view_module": "@jupyter-widgets/base",
            "_view_module_version": "1.2.0",
            "_view_name": "LayoutView",
            "align_content": null,
            "align_items": null,
            "align_self": null,
            "border": null,
            "bottom": null,
            "display": null,
            "flex": null,
            "flex_flow": null,
            "grid_area": null,
            "grid_auto_columns": null,
            "grid_auto_flow": null,
            "grid_auto_rows": null,
            "grid_column": null,
            "grid_gap": null,
            "grid_row": null,
            "grid_template_areas": null,
            "grid_template_columns": null,
            "grid_template_rows": null,
            "height": null,
            "justify_content": null,
            "justify_items": null,
            "left": null,
            "margin": null,
            "max_height": null,
            "max_width": null,
            "min_height": null,
            "min_width": null,
            "object_fit": null,
            "object_position": null,
            "order": null,
            "overflow": null,
            "overflow_x": null,
            "overflow_y": null,
            "padding": null,
            "right": null,
            "top": null,
            "visibility": null,
            "width": null
          }
        },
        "f60d01ce557e4394ae499d429920a7c8": {
          "model_module": "@jupyter-widgets/base",
          "model_name": "LayoutModel",
          "model_module_version": "1.2.0",
          "state": {
            "_model_module": "@jupyter-widgets/base",
            "_model_module_version": "1.2.0",
            "_model_name": "LayoutModel",
            "_view_count": null,
            "_view_module": "@jupyter-widgets/base",
            "_view_module_version": "1.2.0",
            "_view_name": "LayoutView",
            "align_content": null,
            "align_items": null,
            "align_self": null,
            "border": null,
            "bottom": null,
            "display": null,
            "flex": null,
            "flex_flow": null,
            "grid_area": null,
            "grid_auto_columns": null,
            "grid_auto_flow": null,
            "grid_auto_rows": null,
            "grid_column": null,
            "grid_gap": null,
            "grid_row": null,
            "grid_template_areas": null,
            "grid_template_columns": null,
            "grid_template_rows": null,
            "height": null,
            "justify_content": null,
            "justify_items": null,
            "left": null,
            "margin": null,
            "max_height": null,
            "max_width": null,
            "min_height": null,
            "min_width": null,
            "object_fit": null,
            "object_position": null,
            "order": null,
            "overflow": null,
            "overflow_x": null,
            "overflow_y": null,
            "padding": null,
            "right": null,
            "top": null,
            "visibility": null,
            "width": null
          }
        },
        "f43d96dfa9374157bb1112336cb99485": {
          "model_module": "@jupyter-widgets/controls",
          "model_name": "DescriptionStyleModel",
          "model_module_version": "1.5.0",
          "state": {
            "_model_module": "@jupyter-widgets/controls",
            "_model_module_version": "1.5.0",
            "_model_name": "DescriptionStyleModel",
            "_view_count": null,
            "_view_module": "@jupyter-widgets/base",
            "_view_module_version": "1.2.0",
            "_view_name": "StyleView",
            "description_width": ""
          }
        },
        "38591d68874446ae8a4637ecabcb72bf": {
          "model_module": "@jupyter-widgets/base",
          "model_name": "LayoutModel",
          "model_module_version": "1.2.0",
          "state": {
            "_model_module": "@jupyter-widgets/base",
            "_model_module_version": "1.2.0",
            "_model_name": "LayoutModel",
            "_view_count": null,
            "_view_module": "@jupyter-widgets/base",
            "_view_module_version": "1.2.0",
            "_view_name": "LayoutView",
            "align_content": null,
            "align_items": null,
            "align_self": null,
            "border": null,
            "bottom": null,
            "display": null,
            "flex": null,
            "flex_flow": null,
            "grid_area": null,
            "grid_auto_columns": null,
            "grid_auto_flow": null,
            "grid_auto_rows": null,
            "grid_column": null,
            "grid_gap": null,
            "grid_row": null,
            "grid_template_areas": null,
            "grid_template_columns": null,
            "grid_template_rows": null,
            "height": null,
            "justify_content": null,
            "justify_items": null,
            "left": null,
            "margin": null,
            "max_height": null,
            "max_width": null,
            "min_height": null,
            "min_width": null,
            "object_fit": null,
            "object_position": null,
            "order": null,
            "overflow": null,
            "overflow_x": null,
            "overflow_y": null,
            "padding": null,
            "right": null,
            "top": null,
            "visibility": null,
            "width": null
          }
        },
        "f5da154ab7c44e6cb00aee64677750a1": {
          "model_module": "@jupyter-widgets/controls",
          "model_name": "ProgressStyleModel",
          "model_module_version": "1.5.0",
          "state": {
            "_model_module": "@jupyter-widgets/controls",
            "_model_module_version": "1.5.0",
            "_model_name": "ProgressStyleModel",
            "_view_count": null,
            "_view_module": "@jupyter-widgets/base",
            "_view_module_version": "1.2.0",
            "_view_name": "StyleView",
            "bar_color": null,
            "description_width": ""
          }
        },
        "573e9b82571148ccbdb534ac05b24b46": {
          "model_module": "@jupyter-widgets/base",
          "model_name": "LayoutModel",
          "model_module_version": "1.2.0",
          "state": {
            "_model_module": "@jupyter-widgets/base",
            "_model_module_version": "1.2.0",
            "_model_name": "LayoutModel",
            "_view_count": null,
            "_view_module": "@jupyter-widgets/base",
            "_view_module_version": "1.2.0",
            "_view_name": "LayoutView",
            "align_content": null,
            "align_items": null,
            "align_self": null,
            "border": null,
            "bottom": null,
            "display": null,
            "flex": null,
            "flex_flow": null,
            "grid_area": null,
            "grid_auto_columns": null,
            "grid_auto_flow": null,
            "grid_auto_rows": null,
            "grid_column": null,
            "grid_gap": null,
            "grid_row": null,
            "grid_template_areas": null,
            "grid_template_columns": null,
            "grid_template_rows": null,
            "height": null,
            "justify_content": null,
            "justify_items": null,
            "left": null,
            "margin": null,
            "max_height": null,
            "max_width": null,
            "min_height": null,
            "min_width": null,
            "object_fit": null,
            "object_position": null,
            "order": null,
            "overflow": null,
            "overflow_x": null,
            "overflow_y": null,
            "padding": null,
            "right": null,
            "top": null,
            "visibility": null,
            "width": null
          }
        },
        "c44811bbb2274ad8adf29ddd4fc2b210": {
          "model_module": "@jupyter-widgets/controls",
          "model_name": "DescriptionStyleModel",
          "model_module_version": "1.5.0",
          "state": {
            "_model_module": "@jupyter-widgets/controls",
            "_model_module_version": "1.5.0",
            "_model_name": "DescriptionStyleModel",
            "_view_count": null,
            "_view_module": "@jupyter-widgets/base",
            "_view_module_version": "1.2.0",
            "_view_name": "StyleView",
            "description_width": ""
          }
        },
        "484a76db58f74fb085fa8cd5d1fb55c0": {
          "model_module": "@jupyter-widgets/controls",
          "model_name": "HBoxModel",
          "model_module_version": "1.5.0",
          "state": {
            "_dom_classes": [],
            "_model_module": "@jupyter-widgets/controls",
            "_model_module_version": "1.5.0",
            "_model_name": "HBoxModel",
            "_view_count": null,
            "_view_module": "@jupyter-widgets/controls",
            "_view_module_version": "1.5.0",
            "_view_name": "HBoxView",
            "box_style": "",
            "children": [
              "IPY_MODEL_e38a2951dfe64c4da17d5cb024ca86a2",
              "IPY_MODEL_0b7f4e8eebaf4ae583e6374e229a9d21",
              "IPY_MODEL_d1c3a7ad34d143649377bcbb0dc6109f"
            ],
            "layout": "IPY_MODEL_3f81e3f63fe0475ca14bfc7d1f86f7e5"
          }
        },
        "e38a2951dfe64c4da17d5cb024ca86a2": {
          "model_module": "@jupyter-widgets/controls",
          "model_name": "HTMLModel",
          "model_module_version": "1.5.0",
          "state": {
            "_dom_classes": [],
            "_model_module": "@jupyter-widgets/controls",
            "_model_module_version": "1.5.0",
            "_model_name": "HTMLModel",
            "_view_count": null,
            "_view_module": "@jupyter-widgets/controls",
            "_view_module_version": "1.5.0",
            "_view_name": "HTMLView",
            "description": "",
            "description_tooltip": null,
            "layout": "IPY_MODEL_4bc6c86d1afb45e0830b7297114bfced",
            "placeholder": "​",
            "style": "IPY_MODEL_3db0dceafa84461abb72e2ec0f5c8255",
            "value": "Generating train split: 100%"
          }
        },
        "0b7f4e8eebaf4ae583e6374e229a9d21": {
          "model_module": "@jupyter-widgets/controls",
          "model_name": "FloatProgressModel",
          "model_module_version": "1.5.0",
          "state": {
            "_dom_classes": [],
            "_model_module": "@jupyter-widgets/controls",
            "_model_module_version": "1.5.0",
            "_model_name": "FloatProgressModel",
            "_view_count": null,
            "_view_module": "@jupyter-widgets/controls",
            "_view_module_version": "1.5.0",
            "_view_name": "ProgressView",
            "bar_style": "success",
            "description": "",
            "description_tooltip": null,
            "layout": "IPY_MODEL_d0d90db5628c4ca9a648ef2b0d4e4583",
            "max": 8260,
            "min": 0,
            "orientation": "horizontal",
            "style": "IPY_MODEL_6fd7c7053ec8447b9427ff5dcdcb1df1",
            "value": 8260
          }
        },
        "d1c3a7ad34d143649377bcbb0dc6109f": {
          "model_module": "@jupyter-widgets/controls",
          "model_name": "HTMLModel",
          "model_module_version": "1.5.0",
          "state": {
            "_dom_classes": [],
            "_model_module": "@jupyter-widgets/controls",
            "_model_module_version": "1.5.0",
            "_model_name": "HTMLModel",
            "_view_count": null,
            "_view_module": "@jupyter-widgets/controls",
            "_view_module_version": "1.5.0",
            "_view_name": "HTMLView",
            "description": "",
            "description_tooltip": null,
            "layout": "IPY_MODEL_3c5c76a3330843239a599b346922290b",
            "placeholder": "​",
            "style": "IPY_MODEL_0cac5079ea1c44c9ba3f7ae2800fa07a",
            "value": " 8260/8260 [00:05&lt;00:00, 1545.90 examples/s]"
          }
        },
        "3f81e3f63fe0475ca14bfc7d1f86f7e5": {
          "model_module": "@jupyter-widgets/base",
          "model_name": "LayoutModel",
          "model_module_version": "1.2.0",
          "state": {
            "_model_module": "@jupyter-widgets/base",
            "_model_module_version": "1.2.0",
            "_model_name": "LayoutModel",
            "_view_count": null,
            "_view_module": "@jupyter-widgets/base",
            "_view_module_version": "1.2.0",
            "_view_name": "LayoutView",
            "align_content": null,
            "align_items": null,
            "align_self": null,
            "border": null,
            "bottom": null,
            "display": null,
            "flex": null,
            "flex_flow": null,
            "grid_area": null,
            "grid_auto_columns": null,
            "grid_auto_flow": null,
            "grid_auto_rows": null,
            "grid_column": null,
            "grid_gap": null,
            "grid_row": null,
            "grid_template_areas": null,
            "grid_template_columns": null,
            "grid_template_rows": null,
            "height": null,
            "justify_content": null,
            "justify_items": null,
            "left": null,
            "margin": null,
            "max_height": null,
            "max_width": null,
            "min_height": null,
            "min_width": null,
            "object_fit": null,
            "object_position": null,
            "order": null,
            "overflow": null,
            "overflow_x": null,
            "overflow_y": null,
            "padding": null,
            "right": null,
            "top": null,
            "visibility": null,
            "width": null
          }
        },
        "4bc6c86d1afb45e0830b7297114bfced": {
          "model_module": "@jupyter-widgets/base",
          "model_name": "LayoutModel",
          "model_module_version": "1.2.0",
          "state": {
            "_model_module": "@jupyter-widgets/base",
            "_model_module_version": "1.2.0",
            "_model_name": "LayoutModel",
            "_view_count": null,
            "_view_module": "@jupyter-widgets/base",
            "_view_module_version": "1.2.0",
            "_view_name": "LayoutView",
            "align_content": null,
            "align_items": null,
            "align_self": null,
            "border": null,
            "bottom": null,
            "display": null,
            "flex": null,
            "flex_flow": null,
            "grid_area": null,
            "grid_auto_columns": null,
            "grid_auto_flow": null,
            "grid_auto_rows": null,
            "grid_column": null,
            "grid_gap": null,
            "grid_row": null,
            "grid_template_areas": null,
            "grid_template_columns": null,
            "grid_template_rows": null,
            "height": null,
            "justify_content": null,
            "justify_items": null,
            "left": null,
            "margin": null,
            "max_height": null,
            "max_width": null,
            "min_height": null,
            "min_width": null,
            "object_fit": null,
            "object_position": null,
            "order": null,
            "overflow": null,
            "overflow_x": null,
            "overflow_y": null,
            "padding": null,
            "right": null,
            "top": null,
            "visibility": null,
            "width": null
          }
        },
        "3db0dceafa84461abb72e2ec0f5c8255": {
          "model_module": "@jupyter-widgets/controls",
          "model_name": "DescriptionStyleModel",
          "model_module_version": "1.5.0",
          "state": {
            "_model_module": "@jupyter-widgets/controls",
            "_model_module_version": "1.5.0",
            "_model_name": "DescriptionStyleModel",
            "_view_count": null,
            "_view_module": "@jupyter-widgets/base",
            "_view_module_version": "1.2.0",
            "_view_name": "StyleView",
            "description_width": ""
          }
        },
        "d0d90db5628c4ca9a648ef2b0d4e4583": {
          "model_module": "@jupyter-widgets/base",
          "model_name": "LayoutModel",
          "model_module_version": "1.2.0",
          "state": {
            "_model_module": "@jupyter-widgets/base",
            "_model_module_version": "1.2.0",
            "_model_name": "LayoutModel",
            "_view_count": null,
            "_view_module": "@jupyter-widgets/base",
            "_view_module_version": "1.2.0",
            "_view_name": "LayoutView",
            "align_content": null,
            "align_items": null,
            "align_self": null,
            "border": null,
            "bottom": null,
            "display": null,
            "flex": null,
            "flex_flow": null,
            "grid_area": null,
            "grid_auto_columns": null,
            "grid_auto_flow": null,
            "grid_auto_rows": null,
            "grid_column": null,
            "grid_gap": null,
            "grid_row": null,
            "grid_template_areas": null,
            "grid_template_columns": null,
            "grid_template_rows": null,
            "height": null,
            "justify_content": null,
            "justify_items": null,
            "left": null,
            "margin": null,
            "max_height": null,
            "max_width": null,
            "min_height": null,
            "min_width": null,
            "object_fit": null,
            "object_position": null,
            "order": null,
            "overflow": null,
            "overflow_x": null,
            "overflow_y": null,
            "padding": null,
            "right": null,
            "top": null,
            "visibility": null,
            "width": null
          }
        },
        "6fd7c7053ec8447b9427ff5dcdcb1df1": {
          "model_module": "@jupyter-widgets/controls",
          "model_name": "ProgressStyleModel",
          "model_module_version": "1.5.0",
          "state": {
            "_model_module": "@jupyter-widgets/controls",
            "_model_module_version": "1.5.0",
            "_model_name": "ProgressStyleModel",
            "_view_count": null,
            "_view_module": "@jupyter-widgets/base",
            "_view_module_version": "1.2.0",
            "_view_name": "StyleView",
            "bar_color": null,
            "description_width": ""
          }
        },
        "3c5c76a3330843239a599b346922290b": {
          "model_module": "@jupyter-widgets/base",
          "model_name": "LayoutModel",
          "model_module_version": "1.2.0",
          "state": {
            "_model_module": "@jupyter-widgets/base",
            "_model_module_version": "1.2.0",
            "_model_name": "LayoutModel",
            "_view_count": null,
            "_view_module": "@jupyter-widgets/base",
            "_view_module_version": "1.2.0",
            "_view_name": "LayoutView",
            "align_content": null,
            "align_items": null,
            "align_self": null,
            "border": null,
            "bottom": null,
            "display": null,
            "flex": null,
            "flex_flow": null,
            "grid_area": null,
            "grid_auto_columns": null,
            "grid_auto_flow": null,
            "grid_auto_rows": null,
            "grid_column": null,
            "grid_gap": null,
            "grid_row": null,
            "grid_template_areas": null,
            "grid_template_columns": null,
            "grid_template_rows": null,
            "height": null,
            "justify_content": null,
            "justify_items": null,
            "left": null,
            "margin": null,
            "max_height": null,
            "max_width": null,
            "min_height": null,
            "min_width": null,
            "object_fit": null,
            "object_position": null,
            "order": null,
            "overflow": null,
            "overflow_x": null,
            "overflow_y": null,
            "padding": null,
            "right": null,
            "top": null,
            "visibility": null,
            "width": null
          }
        },
        "0cac5079ea1c44c9ba3f7ae2800fa07a": {
          "model_module": "@jupyter-widgets/controls",
          "model_name": "DescriptionStyleModel",
          "model_module_version": "1.5.0",
          "state": {
            "_model_module": "@jupyter-widgets/controls",
            "_model_module_version": "1.5.0",
            "_model_name": "DescriptionStyleModel",
            "_view_count": null,
            "_view_module": "@jupyter-widgets/base",
            "_view_module_version": "1.2.0",
            "_view_name": "StyleView",
            "description_width": ""
          }
        },
        "90552719593f4019a441cd1f9db4fa94": {
          "model_module": "@jupyter-widgets/controls",
          "model_name": "HBoxModel",
          "model_module_version": "1.5.0",
          "state": {
            "_dom_classes": [],
            "_model_module": "@jupyter-widgets/controls",
            "_model_module_version": "1.5.0",
            "_model_name": "HBoxModel",
            "_view_count": null,
            "_view_module": "@jupyter-widgets/controls",
            "_view_module_version": "1.5.0",
            "_view_name": "HBoxView",
            "box_style": "",
            "children": [
              "IPY_MODEL_397f5b0cb4254c5a9a05d918344a8f4d",
              "IPY_MODEL_ea1c212e99994a42a5b8dd923958a954",
              "IPY_MODEL_6cc30d52291747e28d48ae73bc78b73b"
            ],
            "layout": "IPY_MODEL_98fac7cecf37422b963d6e4d88e1b4b5"
          }
        },
        "397f5b0cb4254c5a9a05d918344a8f4d": {
          "model_module": "@jupyter-widgets/controls",
          "model_name": "HTMLModel",
          "model_module_version": "1.5.0",
          "state": {
            "_dom_classes": [],
            "_model_module": "@jupyter-widgets/controls",
            "_model_module_version": "1.5.0",
            "_model_name": "HTMLModel",
            "_view_count": null,
            "_view_module": "@jupyter-widgets/controls",
            "_view_module_version": "1.5.0",
            "_view_name": "HTMLView",
            "description": "",
            "description_tooltip": null,
            "layout": "IPY_MODEL_9c2e7a0b96d44529915dd22cf4c4c625",
            "placeholder": "​",
            "style": "IPY_MODEL_24de610a573441be8f33592d0b3e3e6c",
            "value": "preprocessor_config.json: 100%"
          }
        },
        "ea1c212e99994a42a5b8dd923958a954": {
          "model_module": "@jupyter-widgets/controls",
          "model_name": "FloatProgressModel",
          "model_module_version": "1.5.0",
          "state": {
            "_dom_classes": [],
            "_model_module": "@jupyter-widgets/controls",
            "_model_module_version": "1.5.0",
            "_model_name": "FloatProgressModel",
            "_view_count": null,
            "_view_module": "@jupyter-widgets/controls",
            "_view_module_version": "1.5.0",
            "_view_name": "ProgressView",
            "bar_style": "success",
            "description": "",
            "description_tooltip": null,
            "layout": "IPY_MODEL_2b0cb629b0ff431caaeed2a2136222c2",
            "max": 266,
            "min": 0,
            "orientation": "horizontal",
            "style": "IPY_MODEL_672a496e27744a83b3bc09c2af6c1d07",
            "value": 266
          }
        },
        "6cc30d52291747e28d48ae73bc78b73b": {
          "model_module": "@jupyter-widgets/controls",
          "model_name": "HTMLModel",
          "model_module_version": "1.5.0",
          "state": {
            "_dom_classes": [],
            "_model_module": "@jupyter-widgets/controls",
            "_model_module_version": "1.5.0",
            "_model_name": "HTMLModel",
            "_view_count": null,
            "_view_module": "@jupyter-widgets/controls",
            "_view_module_version": "1.5.0",
            "_view_name": "HTMLView",
            "description": "",
            "description_tooltip": null,
            "layout": "IPY_MODEL_5fd6656a9bb649789603a629d7d401f2",
            "placeholder": "​",
            "style": "IPY_MODEL_bb13f42fcc944374a1c9cdaea1d0b5f0",
            "value": " 266/266 [00:00&lt;00:00, 8.43kB/s]"
          }
        },
        "98fac7cecf37422b963d6e4d88e1b4b5": {
          "model_module": "@jupyter-widgets/base",
          "model_name": "LayoutModel",
          "model_module_version": "1.2.0",
          "state": {
            "_model_module": "@jupyter-widgets/base",
            "_model_module_version": "1.2.0",
            "_model_name": "LayoutModel",
            "_view_count": null,
            "_view_module": "@jupyter-widgets/base",
            "_view_module_version": "1.2.0",
            "_view_name": "LayoutView",
            "align_content": null,
            "align_items": null,
            "align_self": null,
            "border": null,
            "bottom": null,
            "display": null,
            "flex": null,
            "flex_flow": null,
            "grid_area": null,
            "grid_auto_columns": null,
            "grid_auto_flow": null,
            "grid_auto_rows": null,
            "grid_column": null,
            "grid_gap": null,
            "grid_row": null,
            "grid_template_areas": null,
            "grid_template_columns": null,
            "grid_template_rows": null,
            "height": null,
            "justify_content": null,
            "justify_items": null,
            "left": null,
            "margin": null,
            "max_height": null,
            "max_width": null,
            "min_height": null,
            "min_width": null,
            "object_fit": null,
            "object_position": null,
            "order": null,
            "overflow": null,
            "overflow_x": null,
            "overflow_y": null,
            "padding": null,
            "right": null,
            "top": null,
            "visibility": null,
            "width": null
          }
        },
        "9c2e7a0b96d44529915dd22cf4c4c625": {
          "model_module": "@jupyter-widgets/base",
          "model_name": "LayoutModel",
          "model_module_version": "1.2.0",
          "state": {
            "_model_module": "@jupyter-widgets/base",
            "_model_module_version": "1.2.0",
            "_model_name": "LayoutModel",
            "_view_count": null,
            "_view_module": "@jupyter-widgets/base",
            "_view_module_version": "1.2.0",
            "_view_name": "LayoutView",
            "align_content": null,
            "align_items": null,
            "align_self": null,
            "border": null,
            "bottom": null,
            "display": null,
            "flex": null,
            "flex_flow": null,
            "grid_area": null,
            "grid_auto_columns": null,
            "grid_auto_flow": null,
            "grid_auto_rows": null,
            "grid_column": null,
            "grid_gap": null,
            "grid_row": null,
            "grid_template_areas": null,
            "grid_template_columns": null,
            "grid_template_rows": null,
            "height": null,
            "justify_content": null,
            "justify_items": null,
            "left": null,
            "margin": null,
            "max_height": null,
            "max_width": null,
            "min_height": null,
            "min_width": null,
            "object_fit": null,
            "object_position": null,
            "order": null,
            "overflow": null,
            "overflow_x": null,
            "overflow_y": null,
            "padding": null,
            "right": null,
            "top": null,
            "visibility": null,
            "width": null
          }
        },
        "24de610a573441be8f33592d0b3e3e6c": {
          "model_module": "@jupyter-widgets/controls",
          "model_name": "DescriptionStyleModel",
          "model_module_version": "1.5.0",
          "state": {
            "_model_module": "@jupyter-widgets/controls",
            "_model_module_version": "1.5.0",
            "_model_name": "DescriptionStyleModel",
            "_view_count": null,
            "_view_module": "@jupyter-widgets/base",
            "_view_module_version": "1.2.0",
            "_view_name": "StyleView",
            "description_width": ""
          }
        },
        "2b0cb629b0ff431caaeed2a2136222c2": {
          "model_module": "@jupyter-widgets/base",
          "model_name": "LayoutModel",
          "model_module_version": "1.2.0",
          "state": {
            "_model_module": "@jupyter-widgets/base",
            "_model_module_version": "1.2.0",
            "_model_name": "LayoutModel",
            "_view_count": null,
            "_view_module": "@jupyter-widgets/base",
            "_view_module_version": "1.2.0",
            "_view_name": "LayoutView",
            "align_content": null,
            "align_items": null,
            "align_self": null,
            "border": null,
            "bottom": null,
            "display": null,
            "flex": null,
            "flex_flow": null,
            "grid_area": null,
            "grid_auto_columns": null,
            "grid_auto_flow": null,
            "grid_auto_rows": null,
            "grid_column": null,
            "grid_gap": null,
            "grid_row": null,
            "grid_template_areas": null,
            "grid_template_columns": null,
            "grid_template_rows": null,
            "height": null,
            "justify_content": null,
            "justify_items": null,
            "left": null,
            "margin": null,
            "max_height": null,
            "max_width": null,
            "min_height": null,
            "min_width": null,
            "object_fit": null,
            "object_position": null,
            "order": null,
            "overflow": null,
            "overflow_x": null,
            "overflow_y": null,
            "padding": null,
            "right": null,
            "top": null,
            "visibility": null,
            "width": null
          }
        },
        "672a496e27744a83b3bc09c2af6c1d07": {
          "model_module": "@jupyter-widgets/controls",
          "model_name": "ProgressStyleModel",
          "model_module_version": "1.5.0",
          "state": {
            "_model_module": "@jupyter-widgets/controls",
            "_model_module_version": "1.5.0",
            "_model_name": "ProgressStyleModel",
            "_view_count": null,
            "_view_module": "@jupyter-widgets/base",
            "_view_module_version": "1.2.0",
            "_view_name": "StyleView",
            "bar_color": null,
            "description_width": ""
          }
        },
        "5fd6656a9bb649789603a629d7d401f2": {
          "model_module": "@jupyter-widgets/base",
          "model_name": "LayoutModel",
          "model_module_version": "1.2.0",
          "state": {
            "_model_module": "@jupyter-widgets/base",
            "_model_module_version": "1.2.0",
            "_model_name": "LayoutModel",
            "_view_count": null,
            "_view_module": "@jupyter-widgets/base",
            "_view_module_version": "1.2.0",
            "_view_name": "LayoutView",
            "align_content": null,
            "align_items": null,
            "align_self": null,
            "border": null,
            "bottom": null,
            "display": null,
            "flex": null,
            "flex_flow": null,
            "grid_area": null,
            "grid_auto_columns": null,
            "grid_auto_flow": null,
            "grid_auto_rows": null,
            "grid_column": null,
            "grid_gap": null,
            "grid_row": null,
            "grid_template_areas": null,
            "grid_template_columns": null,
            "grid_template_rows": null,
            "height": null,
            "justify_content": null,
            "justify_items": null,
            "left": null,
            "margin": null,
            "max_height": null,
            "max_width": null,
            "min_height": null,
            "min_width": null,
            "object_fit": null,
            "object_position": null,
            "order": null,
            "overflow": null,
            "overflow_x": null,
            "overflow_y": null,
            "padding": null,
            "right": null,
            "top": null,
            "visibility": null,
            "width": null
          }
        },
        "bb13f42fcc944374a1c9cdaea1d0b5f0": {
          "model_module": "@jupyter-widgets/controls",
          "model_name": "DescriptionStyleModel",
          "model_module_version": "1.5.0",
          "state": {
            "_model_module": "@jupyter-widgets/controls",
            "_model_module_version": "1.5.0",
            "_model_name": "DescriptionStyleModel",
            "_view_count": null,
            "_view_module": "@jupyter-widgets/base",
            "_view_module_version": "1.2.0",
            "_view_name": "StyleView",
            "description_width": ""
          }
        },
        "a704f51c94cf41d5bf74edc20dfaf29f": {
          "model_module": "@jupyter-widgets/controls",
          "model_name": "HBoxModel",
          "model_module_version": "1.5.0",
          "state": {
            "_dom_classes": [],
            "_model_module": "@jupyter-widgets/controls",
            "_model_module_version": "1.5.0",
            "_model_name": "HBoxModel",
            "_view_count": null,
            "_view_module": "@jupyter-widgets/controls",
            "_view_module_version": "1.5.0",
            "_view_name": "HBoxView",
            "box_style": "",
            "children": [
              "IPY_MODEL_df7b5a9e7d4549a3ab7d9b779f7db0cd",
              "IPY_MODEL_e1452f50ac8b42548d3e20b8a91e3821",
              "IPY_MODEL_deffe9579835476daf43a3501fbfe944"
            ],
            "layout": "IPY_MODEL_8dc4e054e42644e98b390dc35c094292"
          }
        },
        "df7b5a9e7d4549a3ab7d9b779f7db0cd": {
          "model_module": "@jupyter-widgets/controls",
          "model_name": "HTMLModel",
          "model_module_version": "1.5.0",
          "state": {
            "_dom_classes": [],
            "_model_module": "@jupyter-widgets/controls",
            "_model_module_version": "1.5.0",
            "_model_name": "HTMLModel",
            "_view_count": null,
            "_view_module": "@jupyter-widgets/controls",
            "_view_module_version": "1.5.0",
            "_view_name": "HTMLView",
            "description": "",
            "description_tooltip": null,
            "layout": "IPY_MODEL_5066ae4f3878401a9ea228d5ba945fcd",
            "placeholder": "​",
            "style": "IPY_MODEL_521b977280eb4fea919d7aa238818141",
            "value": "config.json: 100%"
          }
        },
        "e1452f50ac8b42548d3e20b8a91e3821": {
          "model_module": "@jupyter-widgets/controls",
          "model_name": "FloatProgressModel",
          "model_module_version": "1.5.0",
          "state": {
            "_dom_classes": [],
            "_model_module": "@jupyter-widgets/controls",
            "_model_module_version": "1.5.0",
            "_model_name": "FloatProgressModel",
            "_view_count": null,
            "_view_module": "@jupyter-widgets/controls",
            "_view_module_version": "1.5.0",
            "_view_name": "ProgressView",
            "bar_style": "success",
            "description": "",
            "description_tooltip": null,
            "layout": "IPY_MODEL_2b0fab79ecf343cbb65292312a67047a",
            "max": 69556,
            "min": 0,
            "orientation": "horizontal",
            "style": "IPY_MODEL_e2ab71e778d34d80ac64e8ed2c71b661",
            "value": 69556
          }
        },
        "deffe9579835476daf43a3501fbfe944": {
          "model_module": "@jupyter-widgets/controls",
          "model_name": "HTMLModel",
          "model_module_version": "1.5.0",
          "state": {
            "_dom_classes": [],
            "_model_module": "@jupyter-widgets/controls",
            "_model_module_version": "1.5.0",
            "_model_name": "HTMLModel",
            "_view_count": null,
            "_view_module": "@jupyter-widgets/controls",
            "_view_module_version": "1.5.0",
            "_view_name": "HTMLView",
            "description": "",
            "description_tooltip": null,
            "layout": "IPY_MODEL_93a450eb69cc47d3896238d525c93740",
            "placeholder": "​",
            "style": "IPY_MODEL_8ac1aae16fa8427c87e3b96f0639da02",
            "value": " 69.6k/69.6k [00:00&lt;00:00, 853kB/s]"
          }
        },
        "8dc4e054e42644e98b390dc35c094292": {
          "model_module": "@jupyter-widgets/base",
          "model_name": "LayoutModel",
          "model_module_version": "1.2.0",
          "state": {
            "_model_module": "@jupyter-widgets/base",
            "_model_module_version": "1.2.0",
            "_model_name": "LayoutModel",
            "_view_count": null,
            "_view_module": "@jupyter-widgets/base",
            "_view_module_version": "1.2.0",
            "_view_name": "LayoutView",
            "align_content": null,
            "align_items": null,
            "align_self": null,
            "border": null,
            "bottom": null,
            "display": null,
            "flex": null,
            "flex_flow": null,
            "grid_area": null,
            "grid_auto_columns": null,
            "grid_auto_flow": null,
            "grid_auto_rows": null,
            "grid_column": null,
            "grid_gap": null,
            "grid_row": null,
            "grid_template_areas": null,
            "grid_template_columns": null,
            "grid_template_rows": null,
            "height": null,
            "justify_content": null,
            "justify_items": null,
            "left": null,
            "margin": null,
            "max_height": null,
            "max_width": null,
            "min_height": null,
            "min_width": null,
            "object_fit": null,
            "object_position": null,
            "order": null,
            "overflow": null,
            "overflow_x": null,
            "overflow_y": null,
            "padding": null,
            "right": null,
            "top": null,
            "visibility": null,
            "width": null
          }
        },
        "5066ae4f3878401a9ea228d5ba945fcd": {
          "model_module": "@jupyter-widgets/base",
          "model_name": "LayoutModel",
          "model_module_version": "1.2.0",
          "state": {
            "_model_module": "@jupyter-widgets/base",
            "_model_module_version": "1.2.0",
            "_model_name": "LayoutModel",
            "_view_count": null,
            "_view_module": "@jupyter-widgets/base",
            "_view_module_version": "1.2.0",
            "_view_name": "LayoutView",
            "align_content": null,
            "align_items": null,
            "align_self": null,
            "border": null,
            "bottom": null,
            "display": null,
            "flex": null,
            "flex_flow": null,
            "grid_area": null,
            "grid_auto_columns": null,
            "grid_auto_flow": null,
            "grid_auto_rows": null,
            "grid_column": null,
            "grid_gap": null,
            "grid_row": null,
            "grid_template_areas": null,
            "grid_template_columns": null,
            "grid_template_rows": null,
            "height": null,
            "justify_content": null,
            "justify_items": null,
            "left": null,
            "margin": null,
            "max_height": null,
            "max_width": null,
            "min_height": null,
            "min_width": null,
            "object_fit": null,
            "object_position": null,
            "order": null,
            "overflow": null,
            "overflow_x": null,
            "overflow_y": null,
            "padding": null,
            "right": null,
            "top": null,
            "visibility": null,
            "width": null
          }
        },
        "521b977280eb4fea919d7aa238818141": {
          "model_module": "@jupyter-widgets/controls",
          "model_name": "DescriptionStyleModel",
          "model_module_version": "1.5.0",
          "state": {
            "_model_module": "@jupyter-widgets/controls",
            "_model_module_version": "1.5.0",
            "_model_name": "DescriptionStyleModel",
            "_view_count": null,
            "_view_module": "@jupyter-widgets/base",
            "_view_module_version": "1.2.0",
            "_view_name": "StyleView",
            "description_width": ""
          }
        },
        "2b0fab79ecf343cbb65292312a67047a": {
          "model_module": "@jupyter-widgets/base",
          "model_name": "LayoutModel",
          "model_module_version": "1.2.0",
          "state": {
            "_model_module": "@jupyter-widgets/base",
            "_model_module_version": "1.2.0",
            "_model_name": "LayoutModel",
            "_view_count": null,
            "_view_module": "@jupyter-widgets/base",
            "_view_module_version": "1.2.0",
            "_view_name": "LayoutView",
            "align_content": null,
            "align_items": null,
            "align_self": null,
            "border": null,
            "bottom": null,
            "display": null,
            "flex": null,
            "flex_flow": null,
            "grid_area": null,
            "grid_auto_columns": null,
            "grid_auto_flow": null,
            "grid_auto_rows": null,
            "grid_column": null,
            "grid_gap": null,
            "grid_row": null,
            "grid_template_areas": null,
            "grid_template_columns": null,
            "grid_template_rows": null,
            "height": null,
            "justify_content": null,
            "justify_items": null,
            "left": null,
            "margin": null,
            "max_height": null,
            "max_width": null,
            "min_height": null,
            "min_width": null,
            "object_fit": null,
            "object_position": null,
            "order": null,
            "overflow": null,
            "overflow_x": null,
            "overflow_y": null,
            "padding": null,
            "right": null,
            "top": null,
            "visibility": null,
            "width": null
          }
        },
        "e2ab71e778d34d80ac64e8ed2c71b661": {
          "model_module": "@jupyter-widgets/controls",
          "model_name": "ProgressStyleModel",
          "model_module_version": "1.5.0",
          "state": {
            "_model_module": "@jupyter-widgets/controls",
            "_model_module_version": "1.5.0",
            "_model_name": "ProgressStyleModel",
            "_view_count": null,
            "_view_module": "@jupyter-widgets/base",
            "_view_module_version": "1.2.0",
            "_view_name": "StyleView",
            "bar_color": null,
            "description_width": ""
          }
        },
        "93a450eb69cc47d3896238d525c93740": {
          "model_module": "@jupyter-widgets/base",
          "model_name": "LayoutModel",
          "model_module_version": "1.2.0",
          "state": {
            "_model_module": "@jupyter-widgets/base",
            "_model_module_version": "1.2.0",
            "_model_name": "LayoutModel",
            "_view_count": null,
            "_view_module": "@jupyter-widgets/base",
            "_view_module_version": "1.2.0",
            "_view_name": "LayoutView",
            "align_content": null,
            "align_items": null,
            "align_self": null,
            "border": null,
            "bottom": null,
            "display": null,
            "flex": null,
            "flex_flow": null,
            "grid_area": null,
            "grid_auto_columns": null,
            "grid_auto_flow": null,
            "grid_auto_rows": null,
            "grid_column": null,
            "grid_gap": null,
            "grid_row": null,
            "grid_template_areas": null,
            "grid_template_columns": null,
            "grid_template_rows": null,
            "height": null,
            "justify_content": null,
            "justify_items": null,
            "left": null,
            "margin": null,
            "max_height": null,
            "max_width": null,
            "min_height": null,
            "min_width": null,
            "object_fit": null,
            "object_position": null,
            "order": null,
            "overflow": null,
            "overflow_x": null,
            "overflow_y": null,
            "padding": null,
            "right": null,
            "top": null,
            "visibility": null,
            "width": null
          }
        },
        "8ac1aae16fa8427c87e3b96f0639da02": {
          "model_module": "@jupyter-widgets/controls",
          "model_name": "DescriptionStyleModel",
          "model_module_version": "1.5.0",
          "state": {
            "_model_module": "@jupyter-widgets/controls",
            "_model_module_version": "1.5.0",
            "_model_name": "DescriptionStyleModel",
            "_view_count": null,
            "_view_module": "@jupyter-widgets/base",
            "_view_module_version": "1.2.0",
            "_view_name": "StyleView",
            "description_width": ""
          }
        },
        "8b35390165364885a9b646f3cb0d31e7": {
          "model_module": "@jupyter-widgets/controls",
          "model_name": "HBoxModel",
          "model_module_version": "1.5.0",
          "state": {
            "_dom_classes": [],
            "_model_module": "@jupyter-widgets/controls",
            "_model_module_version": "1.5.0",
            "_model_name": "HBoxModel",
            "_view_count": null,
            "_view_module": "@jupyter-widgets/controls",
            "_view_module_version": "1.5.0",
            "_view_name": "HBoxView",
            "box_style": "",
            "children": [
              "IPY_MODEL_d313007fe1b74370931cd342e2febc89",
              "IPY_MODEL_8180992b5fd74793a9b36f6751a0041b",
              "IPY_MODEL_5819e5d625b44527b424e0bdc8a84224"
            ],
            "layout": "IPY_MODEL_12a5ea992c314c64ba04b6d1c68244b2"
          }
        },
        "d313007fe1b74370931cd342e2febc89": {
          "model_module": "@jupyter-widgets/controls",
          "model_name": "HTMLModel",
          "model_module_version": "1.5.0",
          "state": {
            "_dom_classes": [],
            "_model_module": "@jupyter-widgets/controls",
            "_model_module_version": "1.5.0",
            "_model_name": "HTMLModel",
            "_view_count": null,
            "_view_module": "@jupyter-widgets/controls",
            "_view_module_version": "1.5.0",
            "_view_name": "HTMLView",
            "description": "",
            "description_tooltip": null,
            "layout": "IPY_MODEL_87330383848a43e89c367d421aba351d",
            "placeholder": "​",
            "style": "IPY_MODEL_7287894493a64a7e917511a2738163cb",
            "value": "model.safetensors: 100%"
          }
        },
        "8180992b5fd74793a9b36f6751a0041b": {
          "model_module": "@jupyter-widgets/controls",
          "model_name": "FloatProgressModel",
          "model_module_version": "1.5.0",
          "state": {
            "_dom_classes": [],
            "_model_module": "@jupyter-widgets/controls",
            "_model_module_version": "1.5.0",
            "_model_name": "FloatProgressModel",
            "_view_count": null,
            "_view_module": "@jupyter-widgets/controls",
            "_view_module_version": "1.5.0",
            "_view_name": "ProgressView",
            "bar_style": "success",
            "description": "",
            "description_tooltip": null,
            "layout": "IPY_MODEL_bd293183c7614379b13785faabe9072e",
            "max": 102482854,
            "min": 0,
            "orientation": "horizontal",
            "style": "IPY_MODEL_84c74f2fc8124673afee89b95e46e121",
            "value": 102482854
          }
        },
        "5819e5d625b44527b424e0bdc8a84224": {
          "model_module": "@jupyter-widgets/controls",
          "model_name": "HTMLModel",
          "model_module_version": "1.5.0",
          "state": {
            "_dom_classes": [],
            "_model_module": "@jupyter-widgets/controls",
            "_model_module_version": "1.5.0",
            "_model_name": "HTMLModel",
            "_view_count": null,
            "_view_module": "@jupyter-widgets/controls",
            "_view_module_version": "1.5.0",
            "_view_name": "HTMLView",
            "description": "",
            "description_tooltip": null,
            "layout": "IPY_MODEL_d89fed71494040a3a852b663f6f805eb",
            "placeholder": "​",
            "style": "IPY_MODEL_23c599318f284200b1c10135bad39d06",
            "value": " 102M/102M [00:00&lt;00:00, 197MB/s]"
          }
        },
        "12a5ea992c314c64ba04b6d1c68244b2": {
          "model_module": "@jupyter-widgets/base",
          "model_name": "LayoutModel",
          "model_module_version": "1.2.0",
          "state": {
            "_model_module": "@jupyter-widgets/base",
            "_model_module_version": "1.2.0",
            "_model_name": "LayoutModel",
            "_view_count": null,
            "_view_module": "@jupyter-widgets/base",
            "_view_module_version": "1.2.0",
            "_view_name": "LayoutView",
            "align_content": null,
            "align_items": null,
            "align_self": null,
            "border": null,
            "bottom": null,
            "display": null,
            "flex": null,
            "flex_flow": null,
            "grid_area": null,
            "grid_auto_columns": null,
            "grid_auto_flow": null,
            "grid_auto_rows": null,
            "grid_column": null,
            "grid_gap": null,
            "grid_row": null,
            "grid_template_areas": null,
            "grid_template_columns": null,
            "grid_template_rows": null,
            "height": null,
            "justify_content": null,
            "justify_items": null,
            "left": null,
            "margin": null,
            "max_height": null,
            "max_width": null,
            "min_height": null,
            "min_width": null,
            "object_fit": null,
            "object_position": null,
            "order": null,
            "overflow": null,
            "overflow_x": null,
            "overflow_y": null,
            "padding": null,
            "right": null,
            "top": null,
            "visibility": null,
            "width": null
          }
        },
        "87330383848a43e89c367d421aba351d": {
          "model_module": "@jupyter-widgets/base",
          "model_name": "LayoutModel",
          "model_module_version": "1.2.0",
          "state": {
            "_model_module": "@jupyter-widgets/base",
            "_model_module_version": "1.2.0",
            "_model_name": "LayoutModel",
            "_view_count": null,
            "_view_module": "@jupyter-widgets/base",
            "_view_module_version": "1.2.0",
            "_view_name": "LayoutView",
            "align_content": null,
            "align_items": null,
            "align_self": null,
            "border": null,
            "bottom": null,
            "display": null,
            "flex": null,
            "flex_flow": null,
            "grid_area": null,
            "grid_auto_columns": null,
            "grid_auto_flow": null,
            "grid_auto_rows": null,
            "grid_column": null,
            "grid_gap": null,
            "grid_row": null,
            "grid_template_areas": null,
            "grid_template_columns": null,
            "grid_template_rows": null,
            "height": null,
            "justify_content": null,
            "justify_items": null,
            "left": null,
            "margin": null,
            "max_height": null,
            "max_width": null,
            "min_height": null,
            "min_width": null,
            "object_fit": null,
            "object_position": null,
            "order": null,
            "overflow": null,
            "overflow_x": null,
            "overflow_y": null,
            "padding": null,
            "right": null,
            "top": null,
            "visibility": null,
            "width": null
          }
        },
        "7287894493a64a7e917511a2738163cb": {
          "model_module": "@jupyter-widgets/controls",
          "model_name": "DescriptionStyleModel",
          "model_module_version": "1.5.0",
          "state": {
            "_model_module": "@jupyter-widgets/controls",
            "_model_module_version": "1.5.0",
            "_model_name": "DescriptionStyleModel",
            "_view_count": null,
            "_view_module": "@jupyter-widgets/base",
            "_view_module_version": "1.2.0",
            "_view_name": "StyleView",
            "description_width": ""
          }
        },
        "bd293183c7614379b13785faabe9072e": {
          "model_module": "@jupyter-widgets/base",
          "model_name": "LayoutModel",
          "model_module_version": "1.2.0",
          "state": {
            "_model_module": "@jupyter-widgets/base",
            "_model_module_version": "1.2.0",
            "_model_name": "LayoutModel",
            "_view_count": null,
            "_view_module": "@jupyter-widgets/base",
            "_view_module_version": "1.2.0",
            "_view_name": "LayoutView",
            "align_content": null,
            "align_items": null,
            "align_self": null,
            "border": null,
            "bottom": null,
            "display": null,
            "flex": null,
            "flex_flow": null,
            "grid_area": null,
            "grid_auto_columns": null,
            "grid_auto_flow": null,
            "grid_auto_rows": null,
            "grid_column": null,
            "grid_gap": null,
            "grid_row": null,
            "grid_template_areas": null,
            "grid_template_columns": null,
            "grid_template_rows": null,
            "height": null,
            "justify_content": null,
            "justify_items": null,
            "left": null,
            "margin": null,
            "max_height": null,
            "max_width": null,
            "min_height": null,
            "min_width": null,
            "object_fit": null,
            "object_position": null,
            "order": null,
            "overflow": null,
            "overflow_x": null,
            "overflow_y": null,
            "padding": null,
            "right": null,
            "top": null,
            "visibility": null,
            "width": null
          }
        },
        "84c74f2fc8124673afee89b95e46e121": {
          "model_module": "@jupyter-widgets/controls",
          "model_name": "ProgressStyleModel",
          "model_module_version": "1.5.0",
          "state": {
            "_model_module": "@jupyter-widgets/controls",
            "_model_module_version": "1.5.0",
            "_model_name": "ProgressStyleModel",
            "_view_count": null,
            "_view_module": "@jupyter-widgets/base",
            "_view_module_version": "1.2.0",
            "_view_name": "StyleView",
            "bar_color": null,
            "description_width": ""
          }
        },
        "d89fed71494040a3a852b663f6f805eb": {
          "model_module": "@jupyter-widgets/base",
          "model_name": "LayoutModel",
          "model_module_version": "1.2.0",
          "state": {
            "_model_module": "@jupyter-widgets/base",
            "_model_module_version": "1.2.0",
            "_model_name": "LayoutModel",
            "_view_count": null,
            "_view_module": "@jupyter-widgets/base",
            "_view_module_version": "1.2.0",
            "_view_name": "LayoutView",
            "align_content": null,
            "align_items": null,
            "align_self": null,
            "border": null,
            "bottom": null,
            "display": null,
            "flex": null,
            "flex_flow": null,
            "grid_area": null,
            "grid_auto_columns": null,
            "grid_auto_flow": null,
            "grid_auto_rows": null,
            "grid_column": null,
            "grid_gap": null,
            "grid_row": null,
            "grid_template_areas": null,
            "grid_template_columns": null,
            "grid_template_rows": null,
            "height": null,
            "justify_content": null,
            "justify_items": null,
            "left": null,
            "margin": null,
            "max_height": null,
            "max_width": null,
            "min_height": null,
            "min_width": null,
            "object_fit": null,
            "object_position": null,
            "order": null,
            "overflow": null,
            "overflow_x": null,
            "overflow_y": null,
            "padding": null,
            "right": null,
            "top": null,
            "visibility": null,
            "width": null
          }
        },
        "23c599318f284200b1c10135bad39d06": {
          "model_module": "@jupyter-widgets/controls",
          "model_name": "DescriptionStyleModel",
          "model_module_version": "1.5.0",
          "state": {
            "_model_module": "@jupyter-widgets/controls",
            "_model_module_version": "1.5.0",
            "_model_name": "DescriptionStyleModel",
            "_view_count": null,
            "_view_module": "@jupyter-widgets/base",
            "_view_module_version": "1.2.0",
            "_view_name": "StyleView",
            "description_width": ""
          }
        },
        "1d8209598e1a4f90a511a70e196b0d8c": {
          "model_module": "@jupyter-widgets/controls",
          "model_name": "HBoxModel",
          "model_module_version": "1.5.0",
          "state": {
            "_dom_classes": [],
            "_model_module": "@jupyter-widgets/controls",
            "_model_module_version": "1.5.0",
            "_model_name": "HBoxModel",
            "_view_count": null,
            "_view_module": "@jupyter-widgets/controls",
            "_view_module_version": "1.5.0",
            "_view_name": "HBoxView",
            "box_style": "",
            "children": [
              "IPY_MODEL_0b2a78b0e74b49c6a7e7dc8c558fd23d",
              "IPY_MODEL_e861fc842cb2446f821e7cf2fa57d344",
              "IPY_MODEL_56af66763019417f9b07a783470d6971"
            ],
            "layout": "IPY_MODEL_6ce32f0fe55948a7b0de5ba2f08e4211"
          }
        },
        "0b2a78b0e74b49c6a7e7dc8c558fd23d": {
          "model_module": "@jupyter-widgets/controls",
          "model_name": "HTMLModel",
          "model_module_version": "1.5.0",
          "state": {
            "_dom_classes": [],
            "_model_module": "@jupyter-widgets/controls",
            "_model_module_version": "1.5.0",
            "_model_name": "HTMLModel",
            "_view_count": null,
            "_view_module": "@jupyter-widgets/controls",
            "_view_module_version": "1.5.0",
            "_view_name": "HTMLView",
            "description": "",
            "description_tooltip": null,
            "layout": "IPY_MODEL_376040609d4c47efad0040713f398a01",
            "placeholder": "​",
            "style": "IPY_MODEL_5714f3ef80884c8ab229ed2728cfc5d2",
            "value": "Downloading builder script: 100%"
          }
        },
        "e861fc842cb2446f821e7cf2fa57d344": {
          "model_module": "@jupyter-widgets/controls",
          "model_name": "FloatProgressModel",
          "model_module_version": "1.5.0",
          "state": {
            "_dom_classes": [],
            "_model_module": "@jupyter-widgets/controls",
            "_model_module_version": "1.5.0",
            "_model_name": "FloatProgressModel",
            "_view_count": null,
            "_view_module": "@jupyter-widgets/controls",
            "_view_module_version": "1.5.0",
            "_view_name": "ProgressView",
            "bar_style": "success",
            "description": "",
            "description_tooltip": null,
            "layout": "IPY_MODEL_65c0679e019e4b4eb011e13ea55a6587",
            "max": 4203,
            "min": 0,
            "orientation": "horizontal",
            "style": "IPY_MODEL_4398ede0a3654957960c2c2db8f0fab2",
            "value": 4203
          }
        },
        "56af66763019417f9b07a783470d6971": {
          "model_module": "@jupyter-widgets/controls",
          "model_name": "HTMLModel",
          "model_module_version": "1.5.0",
          "state": {
            "_dom_classes": [],
            "_model_module": "@jupyter-widgets/controls",
            "_model_module_version": "1.5.0",
            "_model_name": "HTMLModel",
            "_view_count": null,
            "_view_module": "@jupyter-widgets/controls",
            "_view_module_version": "1.5.0",
            "_view_name": "HTMLView",
            "description": "",
            "description_tooltip": null,
            "layout": "IPY_MODEL_f036b949dc794ded90f1a1e6840659eb",
            "placeholder": "​",
            "style": "IPY_MODEL_1018bca662d4459eacbcccf36a289151",
            "value": " 4.20k/4.20k [00:00&lt;00:00, 201kB/s]"
          }
        },
        "6ce32f0fe55948a7b0de5ba2f08e4211": {
          "model_module": "@jupyter-widgets/base",
          "model_name": "LayoutModel",
          "model_module_version": "1.2.0",
          "state": {
            "_model_module": "@jupyter-widgets/base",
            "_model_module_version": "1.2.0",
            "_model_name": "LayoutModel",
            "_view_count": null,
            "_view_module": "@jupyter-widgets/base",
            "_view_module_version": "1.2.0",
            "_view_name": "LayoutView",
            "align_content": null,
            "align_items": null,
            "align_self": null,
            "border": null,
            "bottom": null,
            "display": null,
            "flex": null,
            "flex_flow": null,
            "grid_area": null,
            "grid_auto_columns": null,
            "grid_auto_flow": null,
            "grid_auto_rows": null,
            "grid_column": null,
            "grid_gap": null,
            "grid_row": null,
            "grid_template_areas": null,
            "grid_template_columns": null,
            "grid_template_rows": null,
            "height": null,
            "justify_content": null,
            "justify_items": null,
            "left": null,
            "margin": null,
            "max_height": null,
            "max_width": null,
            "min_height": null,
            "min_width": null,
            "object_fit": null,
            "object_position": null,
            "order": null,
            "overflow": null,
            "overflow_x": null,
            "overflow_y": null,
            "padding": null,
            "right": null,
            "top": null,
            "visibility": null,
            "width": null
          }
        },
        "376040609d4c47efad0040713f398a01": {
          "model_module": "@jupyter-widgets/base",
          "model_name": "LayoutModel",
          "model_module_version": "1.2.0",
          "state": {
            "_model_module": "@jupyter-widgets/base",
            "_model_module_version": "1.2.0",
            "_model_name": "LayoutModel",
            "_view_count": null,
            "_view_module": "@jupyter-widgets/base",
            "_view_module_version": "1.2.0",
            "_view_name": "LayoutView",
            "align_content": null,
            "align_items": null,
            "align_self": null,
            "border": null,
            "bottom": null,
            "display": null,
            "flex": null,
            "flex_flow": null,
            "grid_area": null,
            "grid_auto_columns": null,
            "grid_auto_flow": null,
            "grid_auto_rows": null,
            "grid_column": null,
            "grid_gap": null,
            "grid_row": null,
            "grid_template_areas": null,
            "grid_template_columns": null,
            "grid_template_rows": null,
            "height": null,
            "justify_content": null,
            "justify_items": null,
            "left": null,
            "margin": null,
            "max_height": null,
            "max_width": null,
            "min_height": null,
            "min_width": null,
            "object_fit": null,
            "object_position": null,
            "order": null,
            "overflow": null,
            "overflow_x": null,
            "overflow_y": null,
            "padding": null,
            "right": null,
            "top": null,
            "visibility": null,
            "width": null
          }
        },
        "5714f3ef80884c8ab229ed2728cfc5d2": {
          "model_module": "@jupyter-widgets/controls",
          "model_name": "DescriptionStyleModel",
          "model_module_version": "1.5.0",
          "state": {
            "_model_module": "@jupyter-widgets/controls",
            "_model_module_version": "1.5.0",
            "_model_name": "DescriptionStyleModel",
            "_view_count": null,
            "_view_module": "@jupyter-widgets/base",
            "_view_module_version": "1.2.0",
            "_view_name": "StyleView",
            "description_width": ""
          }
        },
        "65c0679e019e4b4eb011e13ea55a6587": {
          "model_module": "@jupyter-widgets/base",
          "model_name": "LayoutModel",
          "model_module_version": "1.2.0",
          "state": {
            "_model_module": "@jupyter-widgets/base",
            "_model_module_version": "1.2.0",
            "_model_name": "LayoutModel",
            "_view_count": null,
            "_view_module": "@jupyter-widgets/base",
            "_view_module_version": "1.2.0",
            "_view_name": "LayoutView",
            "align_content": null,
            "align_items": null,
            "align_self": null,
            "border": null,
            "bottom": null,
            "display": null,
            "flex": null,
            "flex_flow": null,
            "grid_area": null,
            "grid_auto_columns": null,
            "grid_auto_flow": null,
            "grid_auto_rows": null,
            "grid_column": null,
            "grid_gap": null,
            "grid_row": null,
            "grid_template_areas": null,
            "grid_template_columns": null,
            "grid_template_rows": null,
            "height": null,
            "justify_content": null,
            "justify_items": null,
            "left": null,
            "margin": null,
            "max_height": null,
            "max_width": null,
            "min_height": null,
            "min_width": null,
            "object_fit": null,
            "object_position": null,
            "order": null,
            "overflow": null,
            "overflow_x": null,
            "overflow_y": null,
            "padding": null,
            "right": null,
            "top": null,
            "visibility": null,
            "width": null
          }
        },
        "4398ede0a3654957960c2c2db8f0fab2": {
          "model_module": "@jupyter-widgets/controls",
          "model_name": "ProgressStyleModel",
          "model_module_version": "1.5.0",
          "state": {
            "_model_module": "@jupyter-widgets/controls",
            "_model_module_version": "1.5.0",
            "_model_name": "ProgressStyleModel",
            "_view_count": null,
            "_view_module": "@jupyter-widgets/base",
            "_view_module_version": "1.2.0",
            "_view_name": "StyleView",
            "bar_color": null,
            "description_width": ""
          }
        },
        "f036b949dc794ded90f1a1e6840659eb": {
          "model_module": "@jupyter-widgets/base",
          "model_name": "LayoutModel",
          "model_module_version": "1.2.0",
          "state": {
            "_model_module": "@jupyter-widgets/base",
            "_model_module_version": "1.2.0",
            "_model_name": "LayoutModel",
            "_view_count": null,
            "_view_module": "@jupyter-widgets/base",
            "_view_module_version": "1.2.0",
            "_view_name": "LayoutView",
            "align_content": null,
            "align_items": null,
            "align_self": null,
            "border": null,
            "bottom": null,
            "display": null,
            "flex": null,
            "flex_flow": null,
            "grid_area": null,
            "grid_auto_columns": null,
            "grid_auto_flow": null,
            "grid_auto_rows": null,
            "grid_column": null,
            "grid_gap": null,
            "grid_row": null,
            "grid_template_areas": null,
            "grid_template_columns": null,
            "grid_template_rows": null,
            "height": null,
            "justify_content": null,
            "justify_items": null,
            "left": null,
            "margin": null,
            "max_height": null,
            "max_width": null,
            "min_height": null,
            "min_width": null,
            "object_fit": null,
            "object_position": null,
            "order": null,
            "overflow": null,
            "overflow_x": null,
            "overflow_y": null,
            "padding": null,
            "right": null,
            "top": null,
            "visibility": null,
            "width": null
          }
        },
        "1018bca662d4459eacbcccf36a289151": {
          "model_module": "@jupyter-widgets/controls",
          "model_name": "DescriptionStyleModel",
          "model_module_version": "1.5.0",
          "state": {
            "_model_module": "@jupyter-widgets/controls",
            "_model_module_version": "1.5.0",
            "_model_name": "DescriptionStyleModel",
            "_view_count": null,
            "_view_module": "@jupyter-widgets/base",
            "_view_module_version": "1.2.0",
            "_view_name": "StyleView",
            "description_width": ""
          }
        }
      }
    }
  },
  "cells": [
    {
      "cell_type": "code",
      "source": [
        "!huggingface-cli login"
      ],
      "metadata": {
        "colab": {
          "base_uri": "https://localhost:8080/"
        },
        "id": "KI7ZPckhAVkl",
        "outputId": "dfca37fc-caff-45e1-ffd6-0dda11b1691d"
      },
      "execution_count": 1,
      "outputs": [
        {
          "output_type": "stream",
          "name": "stdout",
          "text": [
            "\n",
            "    _|    _|  _|    _|    _|_|_|    _|_|_|  _|_|_|  _|      _|    _|_|_|      _|_|_|_|    _|_|      _|_|_|  _|_|_|_|\n",
            "    _|    _|  _|    _|  _|        _|          _|    _|_|    _|  _|            _|        _|    _|  _|        _|\n",
            "    _|_|_|_|  _|    _|  _|  _|_|  _|  _|_|    _|    _|  _|  _|  _|  _|_|      _|_|_|    _|_|_|_|  _|        _|_|_|\n",
            "    _|    _|  _|    _|  _|    _|  _|    _|    _|    _|    _|_|  _|    _|      _|        _|    _|  _|        _|\n",
            "    _|    _|    _|_|      _|_|_|    _|_|_|  _|_|_|  _|      _|    _|_|_|      _|        _|    _|    _|_|_|  _|_|_|_|\n",
            "\n",
            "    To login, `huggingface_hub` requires a token generated from https://huggingface.co/settings/tokens .\n",
            "Enter your token (input will not be visible): \n",
            "Add token as git credential? (Y/n) y\n",
            "Token is valid (permission: write).\n",
            "\u001b[1m\u001b[31mCannot authenticate through git-credential as no helper is defined on your machine.\n",
            "You might have to re-authenticate when pushing to the Hugging Face Hub.\n",
            "Run the following command in your terminal in case you want to set the 'store' credential helper as default.\n",
            "\n",
            "git config --global credential.helper store\n",
            "\n",
            "Read https://git-scm.com/book/en/v2/Git-Tools-Credential-Storage for more details.\u001b[0m\n",
            "Token has not been saved to git credential helper.\n",
            "Your token has been saved to /root/.cache/huggingface/token\n",
            "Login successful\n"
          ]
        }
      ]
    },
    {
      "cell_type": "code",
      "execution_count": 2,
      "metadata": {
        "colab": {
          "base_uri": "https://localhost:8080/"
        },
        "id": "WwJzHOXP5k8E",
        "outputId": "73aeaa0c-62d7-434b-ed9c-e37722aea5e7"
      },
      "outputs": [
        {
          "output_type": "stream",
          "name": "stdout",
          "text": [
            "Collecting datasets\n",
            "  Downloading datasets-2.21.0-py3-none-any.whl.metadata (21 kB)\n",
            "Requirement already satisfied: filelock in /usr/local/lib/python3.10/dist-packages (from datasets) (3.15.4)\n",
            "Requirement already satisfied: numpy>=1.17 in /usr/local/lib/python3.10/dist-packages (from datasets) (1.26.4)\n",
            "Collecting pyarrow>=15.0.0 (from datasets)\n",
            "  Downloading pyarrow-17.0.0-cp310-cp310-manylinux_2_28_x86_64.whl.metadata (3.3 kB)\n",
            "Collecting dill<0.3.9,>=0.3.0 (from datasets)\n",
            "  Downloading dill-0.3.8-py3-none-any.whl.metadata (10 kB)\n",
            "Requirement already satisfied: pandas in /usr/local/lib/python3.10/dist-packages (from datasets) (2.1.4)\n",
            "Requirement already satisfied: requests>=2.32.2 in /usr/local/lib/python3.10/dist-packages (from datasets) (2.32.3)\n",
            "Requirement already satisfied: tqdm>=4.66.3 in /usr/local/lib/python3.10/dist-packages (from datasets) (4.66.5)\n",
            "Collecting xxhash (from datasets)\n",
            "  Downloading xxhash-3.5.0-cp310-cp310-manylinux_2_17_x86_64.manylinux2014_x86_64.whl.metadata (12 kB)\n",
            "Collecting multiprocess (from datasets)\n",
            "  Downloading multiprocess-0.70.16-py310-none-any.whl.metadata (7.2 kB)\n",
            "Requirement already satisfied: fsspec<=2024.6.1,>=2023.1.0 in /usr/local/lib/python3.10/dist-packages (from fsspec[http]<=2024.6.1,>=2023.1.0->datasets) (2024.6.1)\n",
            "Requirement already satisfied: aiohttp in /usr/local/lib/python3.10/dist-packages (from datasets) (3.10.5)\n",
            "Requirement already satisfied: huggingface-hub>=0.21.2 in /usr/local/lib/python3.10/dist-packages (from datasets) (0.23.5)\n",
            "Requirement already satisfied: packaging in /usr/local/lib/python3.10/dist-packages (from datasets) (24.1)\n",
            "Requirement already satisfied: pyyaml>=5.1 in /usr/local/lib/python3.10/dist-packages (from datasets) (6.0.2)\n",
            "Requirement already satisfied: aiohappyeyeballs>=2.3.0 in /usr/local/lib/python3.10/dist-packages (from aiohttp->datasets) (2.4.0)\n",
            "Requirement already satisfied: aiosignal>=1.1.2 in /usr/local/lib/python3.10/dist-packages (from aiohttp->datasets) (1.3.1)\n",
            "Requirement already satisfied: attrs>=17.3.0 in /usr/local/lib/python3.10/dist-packages (from aiohttp->datasets) (24.2.0)\n",
            "Requirement already satisfied: frozenlist>=1.1.1 in /usr/local/lib/python3.10/dist-packages (from aiohttp->datasets) (1.4.1)\n",
            "Requirement already satisfied: multidict<7.0,>=4.5 in /usr/local/lib/python3.10/dist-packages (from aiohttp->datasets) (6.0.5)\n",
            "Requirement already satisfied: yarl<2.0,>=1.0 in /usr/local/lib/python3.10/dist-packages (from aiohttp->datasets) (1.9.4)\n",
            "Requirement already satisfied: async-timeout<5.0,>=4.0 in /usr/local/lib/python3.10/dist-packages (from aiohttp->datasets) (4.0.3)\n",
            "Requirement already satisfied: typing-extensions>=3.7.4.3 in /usr/local/lib/python3.10/dist-packages (from huggingface-hub>=0.21.2->datasets) (4.12.2)\n",
            "Requirement already satisfied: charset-normalizer<4,>=2 in /usr/local/lib/python3.10/dist-packages (from requests>=2.32.2->datasets) (3.3.2)\n",
            "Requirement already satisfied: idna<4,>=2.5 in /usr/local/lib/python3.10/dist-packages (from requests>=2.32.2->datasets) (3.8)\n",
            "Requirement already satisfied: urllib3<3,>=1.21.1 in /usr/local/lib/python3.10/dist-packages (from requests>=2.32.2->datasets) (2.0.7)\n",
            "Requirement already satisfied: certifi>=2017.4.17 in /usr/local/lib/python3.10/dist-packages (from requests>=2.32.2->datasets) (2024.7.4)\n",
            "Requirement already satisfied: python-dateutil>=2.8.2 in /usr/local/lib/python3.10/dist-packages (from pandas->datasets) (2.8.2)\n",
            "Requirement already satisfied: pytz>=2020.1 in /usr/local/lib/python3.10/dist-packages (from pandas->datasets) (2024.1)\n",
            "Requirement already satisfied: tzdata>=2022.1 in /usr/local/lib/python3.10/dist-packages (from pandas->datasets) (2024.1)\n",
            "Requirement already satisfied: six>=1.5 in /usr/local/lib/python3.10/dist-packages (from python-dateutil>=2.8.2->pandas->datasets) (1.16.0)\n",
            "Downloading datasets-2.21.0-py3-none-any.whl (527 kB)\n",
            "\u001b[2K   \u001b[90m━━━━━━━━━━━━━━━━━━━━━━━━━━━━━━━━━━━━━━━━\u001b[0m \u001b[32m527.3/527.3 kB\u001b[0m \u001b[31m24.7 MB/s\u001b[0m eta \u001b[36m0:00:00\u001b[0m\n",
            "\u001b[?25hDownloading dill-0.3.8-py3-none-any.whl (116 kB)\n",
            "\u001b[2K   \u001b[90m━━━━━━━━━━━━━━━━━━━━━━━━━━━━━━━━━━━━━━━━\u001b[0m \u001b[32m116.3/116.3 kB\u001b[0m \u001b[31m10.6 MB/s\u001b[0m eta \u001b[36m0:00:00\u001b[0m\n",
            "\u001b[?25hDownloading pyarrow-17.0.0-cp310-cp310-manylinux_2_28_x86_64.whl (39.9 MB)\n",
            "\u001b[2K   \u001b[90m━━━━━━━━━━━━━━━━━━━━━━━━━━━━━━━━━━━━━━━━\u001b[0m \u001b[32m39.9/39.9 MB\u001b[0m \u001b[31m20.5 MB/s\u001b[0m eta \u001b[36m0:00:00\u001b[0m\n",
            "\u001b[?25hDownloading multiprocess-0.70.16-py310-none-any.whl (134 kB)\n",
            "\u001b[2K   \u001b[90m━━━━━━━━━━━━━━━━━━━━━━━━━━━━━━━━━━━━━━━━\u001b[0m \u001b[32m134.8/134.8 kB\u001b[0m \u001b[31m13.4 MB/s\u001b[0m eta \u001b[36m0:00:00\u001b[0m\n",
            "\u001b[?25hDownloading xxhash-3.5.0-cp310-cp310-manylinux_2_17_x86_64.manylinux2014_x86_64.whl (194 kB)\n",
            "\u001b[2K   \u001b[90m━━━━━━━━━━━━━━━━━━━━━━━━━━━━━━━━━━━━━━━━\u001b[0m \u001b[32m194.1/194.1 kB\u001b[0m \u001b[31m18.3 MB/s\u001b[0m eta \u001b[36m0:00:00\u001b[0m\n",
            "\u001b[?25hInstalling collected packages: xxhash, pyarrow, dill, multiprocess, datasets\n",
            "  Attempting uninstall: pyarrow\n",
            "    Found existing installation: pyarrow 14.0.2\n",
            "    Uninstalling pyarrow-14.0.2:\n",
            "      Successfully uninstalled pyarrow-14.0.2\n",
            "\u001b[31mERROR: pip's dependency resolver does not currently take into account all the packages that are installed. This behaviour is the source of the following dependency conflicts.\n",
            "cudf-cu12 24.4.1 requires pyarrow<15.0.0a0,>=14.0.1, but you have pyarrow 17.0.0 which is incompatible.\n",
            "ibis-framework 8.0.0 requires pyarrow<16,>=2, but you have pyarrow 17.0.0 which is incompatible.\u001b[0m\u001b[31m\n",
            "\u001b[0mSuccessfully installed datasets-2.21.0 dill-0.3.8 multiprocess-0.70.16 pyarrow-17.0.0 xxhash-3.5.0\n"
          ]
        }
      ],
      "source": [
        "pip install datasets\n"
      ]
    },
    {
      "cell_type": "code",
      "source": [
        "from datasets import load_dataset\n",
        "\n",
        "ds = load_dataset(\"SilpaCS/kneeosteoarthritis\")\n"
      ],
      "metadata": {
        "colab": {
          "base_uri": "https://localhost:8080/",
          "height": 240,
          "referenced_widgets": [
            "15b61c42a0ad4f7ba6cc459df22e0bba",
            "0edbab63b8b1445f9c114a6f7cbff140",
            "b1d3a4f049794dc88fb8774bafa7fa41",
            "3b98cec82ee443228ddb9a4010509d00",
            "635ffc0676424f08bafd2080cc93ecd8",
            "bd4102c2a44f48faa74d8c226a22f37c",
            "af931a2da9464b35a01ba50cf169a37c",
            "1f3af4f2187f40668a00fc3e93b996c7",
            "4e9ddcf0298f41759e0e238c414d03a1",
            "990195b921dc4c34aed610dafd256b6e",
            "969e6d4fd5654f148e14d1ddf87ff0de",
            "7fb7bd53a9e849cdbc4b7765b5d340c3",
            "e944fa093ceb41b589ea9776977b3d1b",
            "cb8af44553694c289983d2d258a9c182",
            "f13bc75d70ee4da68ed578ee37f3f25a",
            "586ba6d79d904c569fa9228580a5a18c",
            "f60d01ce557e4394ae499d429920a7c8",
            "f43d96dfa9374157bb1112336cb99485",
            "38591d68874446ae8a4637ecabcb72bf",
            "f5da154ab7c44e6cb00aee64677750a1",
            "573e9b82571148ccbdb534ac05b24b46",
            "c44811bbb2274ad8adf29ddd4fc2b210",
            "484a76db58f74fb085fa8cd5d1fb55c0",
            "e38a2951dfe64c4da17d5cb024ca86a2",
            "0b7f4e8eebaf4ae583e6374e229a9d21",
            "d1c3a7ad34d143649377bcbb0dc6109f",
            "3f81e3f63fe0475ca14bfc7d1f86f7e5",
            "4bc6c86d1afb45e0830b7297114bfced",
            "3db0dceafa84461abb72e2ec0f5c8255",
            "d0d90db5628c4ca9a648ef2b0d4e4583",
            "6fd7c7053ec8447b9427ff5dcdcb1df1",
            "3c5c76a3330843239a599b346922290b",
            "0cac5079ea1c44c9ba3f7ae2800fa07a"
          ]
        },
        "id": "gjTkNEEH5-UD",
        "outputId": "f17b30c4-1427-46ef-dc36-6747a7ad08c6"
      },
      "execution_count": 3,
      "outputs": [
        {
          "output_type": "stream",
          "name": "stderr",
          "text": [
            "/usr/local/lib/python3.10/dist-packages/huggingface_hub/utils/_token.py:89: UserWarning: \n",
            "The secret `HF_TOKEN` does not exist in your Colab secrets.\n",
            "To authenticate with the Hugging Face Hub, create a token in your settings tab (https://huggingface.co/settings/tokens), set it as secret in your Google Colab and restart your session.\n",
            "You will be able to reuse this secret in all of your notebooks.\n",
            "Please note that authentication is recommended but still optional to access public models or datasets.\n",
            "  warnings.warn(\n"
          ]
        },
        {
          "output_type": "display_data",
          "data": {
            "text/plain": [
              "Downloading readme:   0%|          | 0.00/62.0 [00:00<?, ?B/s]"
            ],
            "application/vnd.jupyter.widget-view+json": {
              "version_major": 2,
              "version_minor": 0,
              "model_id": "15b61c42a0ad4f7ba6cc459df22e0bba"
            }
          },
          "metadata": {}
        },
        {
          "output_type": "display_data",
          "data": {
            "text/plain": [
              "Downloading data:   0%|          | 0.00/180M [00:00<?, ?B/s]"
            ],
            "application/vnd.jupyter.widget-view+json": {
              "version_major": 2,
              "version_minor": 0,
              "model_id": "7fb7bd53a9e849cdbc4b7765b5d340c3"
            }
          },
          "metadata": {}
        },
        {
          "output_type": "display_data",
          "data": {
            "text/plain": [
              "Generating train split:   0%|          | 0/8260 [00:00<?, ? examples/s]"
            ],
            "application/vnd.jupyter.widget-view+json": {
              "version_major": 2,
              "version_minor": 0,
              "model_id": "484a76db58f74fb085fa8cd5d1fb55c0"
            }
          },
          "metadata": {}
        }
      ]
    },
    {
      "cell_type": "code",
      "source": [
        "ds['train'][1]"
      ],
      "metadata": {
        "id": "-x2HGBth6HnP",
        "colab": {
          "base_uri": "https://localhost:8080/"
        },
        "outputId": "c598a641-02aa-41e7-c02c-734cc8d11a0d"
      },
      "execution_count": 4,
      "outputs": [
        {
          "output_type": "execute_result",
          "data": {
            "text/plain": [
              "{'image': <PIL.PngImagePlugin.PngImageFile image mode=L size=224x224>,\n",
              " 'label': 0}"
            ]
          },
          "metadata": {},
          "execution_count": 4
        }
      ]
    },
    {
      "cell_type": "code",
      "source": [
        "image,_=ds['train'][1]['image'],ds['train'][1]['label']"
      ],
      "metadata": {
        "id": "nuxQLttb6aya"
      },
      "execution_count": 5,
      "outputs": []
    },
    {
      "cell_type": "code",
      "source": [
        "import cv2\n",
        "import PIL\n",
        "import matplotlib.pyplot as plt"
      ],
      "metadata": {
        "id": "kFQEhVM16lku"
      },
      "execution_count": 6,
      "outputs": []
    },
    {
      "cell_type": "code",
      "source": [
        "display(image)\n"
      ],
      "metadata": {
        "id": "Zs73VWaA6uk4",
        "colab": {
          "base_uri": "https://localhost:8080/",
          "height": 241
        },
        "outputId": "58897935-d2f4-47f7-ad79-ffb94d7f97fa"
      },
      "execution_count": 7,
      "outputs": [
        {
          "output_type": "display_data",
          "data": {
            "text/plain": [
              "<PIL.PngImagePlugin.PngImageFile image mode=L size=224x224>"
            ],
            "image/png": "[encoded data removed]"
          },
          "metadata": {}
        }
      ]
    },
    {
      "cell_type": "code",
      "source": [
        "\n",
        "from transformers import AutoImageProcessor, AutoModelForImageClassification\n",
        "\n",
        "processor = AutoImageProcessor.from_pretrained(\"microsoft/resnet-50\")\n",
        "model = AutoModelForImageClassification.from_pretrained(\"microsoft/resnet-50\")"
      ],
      "metadata": {
        "id": "MJ9aF2iV60Bw",
        "colab": {
          "base_uri": "https://localhost:8080/",
          "height": 113,
          "referenced_widgets": [
            "90552719593f4019a441cd1f9db4fa94",
            "397f5b0cb4254c5a9a05d918344a8f4d",
            "ea1c212e99994a42a5b8dd923958a954",
            "6cc30d52291747e28d48ae73bc78b73b",
            "98fac7cecf37422b963d6e4d88e1b4b5",
            "9c2e7a0b96d44529915dd22cf4c4c625",
            "24de610a573441be8f33592d0b3e3e6c",
            "2b0cb629b0ff431caaeed2a2136222c2",
            "672a496e27744a83b3bc09c2af6c1d07",
            "5fd6656a9bb649789603a629d7d401f2",
            "bb13f42fcc944374a1c9cdaea1d0b5f0",
            "a704f51c94cf41d5bf74edc20dfaf29f",
            "df7b5a9e7d4549a3ab7d9b779f7db0cd",
            "e1452f50ac8b42548d3e20b8a91e3821",
            "deffe9579835476daf43a3501fbfe944",
            "8dc4e054e42644e98b390dc35c094292",
            "5066ae4f3878401a9ea228d5ba945fcd",
            "521b977280eb4fea919d7aa238818141",
            "2b0fab79ecf343cbb65292312a67047a",
            "e2ab71e778d34d80ac64e8ed2c71b661",
            "93a450eb69cc47d3896238d525c93740",
            "8ac1aae16fa8427c87e3b96f0639da02",
            "8b35390165364885a9b646f3cb0d31e7",
            "d313007fe1b74370931cd342e2febc89",
            "8180992b5fd74793a9b36f6751a0041b",
            "5819e5d625b44527b424e0bdc8a84224",
            "12a5ea992c314c64ba04b6d1c68244b2",
            "87330383848a43e89c367d421aba351d",
            "7287894493a64a7e917511a2738163cb",
            "bd293183c7614379b13785faabe9072e",
            "84c74f2fc8124673afee89b95e46e121",
            "d89fed71494040a3a852b663f6f805eb",
            "23c599318f284200b1c10135bad39d06"
          ]
        },
        "outputId": "fd481887-bc41-45e2-cbc9-853f94062d3c"
      },
      "execution_count": 8,
      "outputs": [
        {
          "output_type": "display_data",
          "data": {
            "text/plain": [
              "preprocessor_config.json:   0%|          | 0.00/266 [00:00<?, ?B/s]"
            ],
            "application/vnd.jupyter.widget-view+json": {
              "version_major": 2,
              "version_minor": 0,
              "model_id": "90552719593f4019a441cd1f9db4fa94"
            }
          },
          "metadata": {}
        },
        {
          "output_type": "display_data",
          "data": {
            "text/plain": [
              "config.json:   0%|          | 0.00/69.6k [00:00<?, ?B/s]"
            ],
            "application/vnd.jupyter.widget-view+json": {
              "version_major": 2,
              "version_minor": 0,
              "model_id": "a704f51c94cf41d5bf74edc20dfaf29f"
            }
          },
          "metadata": {}
        },
        {
          "output_type": "display_data",
          "data": {
            "text/plain": [
              "model.safetensors:   0%|          | 0.00/102M [00:00<?, ?B/s]"
            ],
            "application/vnd.jupyter.widget-view+json": {
              "version_major": 2,
              "version_minor": 0,
              "model_id": "8b35390165364885a9b646f3cb0d31e7"
            }
          },
          "metadata": {}
        }
      ]
    },
    {
      "cell_type": "code",
      "source": [
        "pip install transformers datasets evaluate accelerate pillow torchvision scikit-learn"
      ],
      "metadata": {
        "id": "JvsPe9sP7nFm",
        "colab": {
          "base_uri": "https://localhost:8080/"
        },
        "outputId": "58be072b-4095-4ae3-c807-41b7d678c766"
      },
      "execution_count": 9,
      "outputs": [
        {
          "output_type": "stream",
          "name": "stdout",
          "text": [
            "Requirement already satisfied: transformers in /usr/local/lib/python3.10/dist-packages (4.42.4)\n",
            "Requirement already satisfied: datasets in /usr/local/lib/python3.10/dist-packages (2.21.0)\n",
            "Collecting evaluate\n",
            "  Downloading evaluate-0.4.2-py3-none-any.whl.metadata (9.3 kB)\n",
            "Requirement already satisfied: accelerate in /usr/local/lib/python3.10/dist-packages (0.32.1)\n",
            "Requirement already satisfied: pillow in /usr/local/lib/python3.10/dist-packages (9.4.0)\n",
            "Requirement already satisfied: torchvision in /usr/local/lib/python3.10/dist-packages (0.19.0+cu121)\n",
            "Requirement already satisfied: scikit-learn in /usr/local/lib/python3.10/dist-packages (1.3.2)\n",
            "Requirement already satisfied: filelock in /usr/local/lib/python3.10/dist-packages (from transformers) (3.15.4)\n",
            "Requirement already satisfied: huggingface-hub<1.0,>=0.23.2 in /usr/local/lib/python3.10/dist-packages (from transformers) (0.23.5)\n",
            "Requirement already satisfied: numpy<2.0,>=1.17 in /usr/local/lib/python3.10/dist-packages (from transformers) (1.26.4)\n",
            "Requirement already satisfied: packaging>=20.0 in /usr/local/lib/python3.10/dist-packages (from transformers) (24.1)\n",
            "Requirement already satisfied: pyyaml>=5.1 in /usr/local/lib/python3.10/dist-packages (from transformers) (6.0.2)\n",
            "Requirement already satisfied: regex!=2019.12.17 in /usr/local/lib/python3.10/dist-packages (from transformers) (2024.5.15)\n",
            "Requirement already satisfied: requests in /usr/local/lib/python3.10/dist-packages (from transformers) (2.32.3)\n",
            "Requirement already satisfied: safetensors>=0.4.1 in /usr/local/lib/python3.10/dist-packages (from transformers) (0.4.4)\n",
            "Requirement already satisfied: tokenizers<0.20,>=0.19 in /usr/local/lib/python3.10/dist-packages (from transformers) (0.19.1)\n",
            "Requirement already satisfied: tqdm>=4.27 in /usr/local/lib/python3.10/dist-packages (from transformers) (4.66.5)\n",
            "Requirement already satisfied: pyarrow>=15.0.0 in /usr/local/lib/python3.10/dist-packages (from datasets) (17.0.0)\n",
            "Requirement already satisfied: dill<0.3.9,>=0.3.0 in /usr/local/lib/python3.10/dist-packages (from datasets) (0.3.8)\n",
            "Requirement already satisfied: pandas in /usr/local/lib/python3.10/dist-packages (from datasets) (2.1.4)\n",
            "Requirement already satisfied: xxhash in /usr/local/lib/python3.10/dist-packages (from datasets) (3.5.0)\n",
            "Requirement already satisfied: multiprocess in /usr/local/lib/python3.10/dist-packages (from datasets) (0.70.16)\n",
            "Requirement already satisfied: fsspec<=2024.6.1,>=2023.1.0 in /usr/local/lib/python3.10/dist-packages (from fsspec[http]<=2024.6.1,>=2023.1.0->datasets) (2024.6.1)\n",
            "Requirement already satisfied: aiohttp in /usr/local/lib/python3.10/dist-packages (from datasets) (3.10.5)\n",
            "Requirement already satisfied: psutil in /usr/local/lib/python3.10/dist-packages (from accelerate) (5.9.5)\n",
            "Requirement already satisfied: torch>=1.10.0 in /usr/local/lib/python3.10/dist-packages (from accelerate) (2.4.0+cu121)\n",
            "Requirement already satisfied: typing-extensions>=4.8.0 in /usr/local/lib/python3.10/dist-packages (from torch>=1.10.0->accelerate) (4.12.2)\n",
            "Requirement already satisfied: sympy in /usr/local/lib/python3.10/dist-packages (from torch>=1.10.0->accelerate) (1.13.2)\n",
            "Requirement already satisfied: networkx in /usr/local/lib/python3.10/dist-packages (from torch>=1.10.0->accelerate) (3.3)\n",
            "Requirement already satisfied: jinja2 in /usr/local/lib/python3.10/dist-packages (from torch>=1.10.0->accelerate) (3.1.4)\n",
            "Requirement already satisfied: scipy>=1.5.0 in /usr/local/lib/python3.10/dist-packages (from scikit-learn) (1.13.1)\n",
            "Requirement already satisfied: joblib>=1.1.1 in /usr/local/lib/python3.10/dist-packages (from scikit-learn) (1.4.2)\n",
            "Requirement already satisfied: threadpoolctl>=2.0.0 in /usr/local/lib/python3.10/dist-packages (from scikit-learn) (3.5.0)\n",
            "Requirement already satisfied: aiohappyeyeballs>=2.3.0 in /usr/local/lib/python3.10/dist-packages (from aiohttp->datasets) (2.4.0)\n",
            "Requirement already satisfied: aiosignal>=1.1.2 in /usr/local/lib/python3.10/dist-packages (from aiohttp->datasets) (1.3.1)\n",
            "Requirement already satisfied: attrs>=17.3.0 in /usr/local/lib/python3.10/dist-packages (from aiohttp->datasets) (24.2.0)\n",
            "Requirement already satisfied: frozenlist>=1.1.1 in /usr/local/lib/python3.10/dist-packages (from aiohttp->datasets) (1.4.1)\n",
            "Requirement already satisfied: multidict<7.0,>=4.5 in /usr/local/lib/python3.10/dist-packages (from aiohttp->datasets) (6.0.5)\n",
            "Requirement already satisfied: yarl<2.0,>=1.0 in /usr/local/lib/python3.10/dist-packages (from aiohttp->datasets) (1.9.4)\n",
            "Requirement already satisfied: async-timeout<5.0,>=4.0 in /usr/local/lib/python3.10/dist-packages (from aiohttp->datasets) (4.0.3)\n",
            "Requirement already satisfied: charset-normalizer<4,>=2 in /usr/local/lib/python3.10/dist-packages (from requests->transformers) (3.3.2)\n",
            "Requirement already satisfied: idna<4,>=2.5 in /usr/local/lib/python3.10/dist-packages (from requests->transformers) (3.8)\n",
            "Requirement already satisfied: urllib3<3,>=1.21.1 in /usr/local/lib/python3.10/dist-packages (from requests->transformers) (2.0.7)\n",
            "Requirement already satisfied: certifi>=2017.4.17 in /usr/local/lib/python3.10/dist-packages (from requests->transformers) (2024.7.4)\n",
            "Requirement already satisfied: python-dateutil>=2.8.2 in /usr/local/lib/python3.10/dist-packages (from pandas->datasets) (2.8.2)\n",
            "Requirement already satisfied: pytz>=2020.1 in /usr/local/lib/python3.10/dist-packages (from pandas->datasets) (2024.1)\n",
            "Requirement already satisfied: tzdata>=2022.1 in /usr/local/lib/python3.10/dist-packages (from pandas->datasets) (2024.1)\n",
            "Requirement already satisfied: six>=1.5 in /usr/local/lib/python3.10/dist-packages (from python-dateutil>=2.8.2->pandas->datasets) (1.16.0)\n",
            "Requirement already satisfied: MarkupSafe>=2.0 in /usr/local/lib/python3.10/dist-packages (from jinja2->torch>=1.10.0->accelerate) (2.1.5)\n",
            "Requirement already satisfied: mpmath<1.4,>=1.1.0 in /usr/local/lib/python3.10/dist-packages (from sympy->torch>=1.10.0->accelerate) (1.3.0)\n",
            "Downloading evaluate-0.4.2-py3-none-any.whl (84 kB)\n",
            "\u001b[2K   \u001b[90m━━━━━━━━━━━━━━━━━━━━━━━━━━━━━━━━━━━━━━━━\u001b[0m \u001b[32m84.1/84.1 kB\u001b[0m \u001b[31m5.6 MB/s\u001b[0m eta \u001b[36m0:00:00\u001b[0m\n",
            "\u001b[?25hInstalling collected packages: evaluate\n",
            "Successfully installed evaluate-0.4.2\n"
          ]
        }
      ]
    },
    {
      "cell_type": "code",
      "source": [
        "ds"
      ],
      "metadata": {
        "id": "vHeWgAIq8-R1",
        "colab": {
          "base_uri": "https://localhost:8080/"
        },
        "outputId": "c85e2116-826b-49b9-d40c-1da75e30e05e"
      },
      "execution_count": 10,
      "outputs": [
        {
          "output_type": "execute_result",
          "data": {
            "text/plain": [
              "DatasetDict({\n",
              "    train: Dataset({\n",
              "        features: ['image', 'label'],\n",
              "        num_rows: 8260\n",
              "    })\n",
              "})"
            ]
          },
          "metadata": {},
          "execution_count": 10
        }
      ]
    },
    {
      "cell_type": "code",
      "source": [
        "\n",
        "\n",
        "ds = ds['train'].train_test_split(test_size=0.2)\n"
      ],
      "metadata": {
        "id": "ZdVNTyeJ9GWl"
      },
      "execution_count": 11,
      "outputs": []
    },
    {
      "cell_type": "code",
      "source": [
        "ds"
      ],
      "metadata": {
        "id": "Dgnoy_G29N_u",
        "colab": {
          "base_uri": "https://localhost:8080/"
        },
        "outputId": "1047d951-2ca7-43e9-921f-5f016664bad5"
      },
      "execution_count": 12,
      "outputs": [
        {
          "output_type": "execute_result",
          "data": {
            "text/plain": [
              "DatasetDict({\n",
              "    train: Dataset({\n",
              "        features: ['image', 'label'],\n",
              "        num_rows: 6608\n",
              "    })\n",
              "    test: Dataset({\n",
              "        features: ['image', 'label'],\n",
              "        num_rows: 1652\n",
              "    })\n",
              "})"
            ]
          },
          "metadata": {},
          "execution_count": 12
        }
      ]
    },
    {
      "cell_type": "code",
      "source": [
        "ds[\"train\"][0]"
      ],
      "metadata": {
        "id": "9O14Tj6n9rGX",
        "colab": {
          "base_uri": "https://localhost:8080/"
        },
        "outputId": "5f6544d7-7a98-42c7-96b5-a45cb8ce86a8"
      },
      "execution_count": 13,
      "outputs": [
        {
          "output_type": "execute_result",
          "data": {
            "text/plain": [
              "{'image': <PIL.PngImagePlugin.PngImageFile image mode=L size=224x224>,\n",
              " 'label': 2}"
            ]
          },
          "metadata": {},
          "execution_count": 13
        }
      ]
    },
    {
      "cell_type": "code",
      "source": [
        "labels = ds[\"train\"].features[\"label\"].names\n",
        "label2id, id2label = dict(), dict()\n",
        "for i, label in enumerate(labels):\n",
        "    label2id[label] = str(i)\n",
        "    id2label[str(i)] = label"
      ],
      "metadata": {
        "id": "gvC-r8uC-7kN"
      },
      "execution_count": 14,
      "outputs": []
    },
    {
      "cell_type": "code",
      "source": [
        "from transformers import AutoImageProcessor\n",
        "\n",
        "checkpoint = \"microsoft/resnet-50\"\n",
        "image_processor = AutoImageProcessor.from_pretrained(checkpoint)"
      ],
      "metadata": {
        "id": "nM_SMWAh9zyO"
      },
      "execution_count": 15,
      "outputs": []
    },
    {
      "cell_type": "code",
      "source": [
        "from torchvision.transforms import RandomResizedCrop, Compose, Normalize, ToTensor\n",
        "\n",
        "normalize = Normalize(mean=image_processor.image_mean, std=image_processor.image_std)\n",
        "size = (\n",
        "    image_processor.size[\"shortest_edge\"]\n",
        "    if \"shortest_edge\" in image_processor.size\n",
        "    else (image_processor.size[\"height\"], image_processor.size[\"width\"])\n",
        ")\n",
        "_transforms = Compose([RandomResizedCrop(size), ToTensor(), normalize])"
      ],
      "metadata": {
        "id": "GO1gqXjs-F9W"
      },
      "execution_count": 16,
      "outputs": []
    },
    {
      "cell_type": "code",
      "source": [
        "def transforms(examples):\n",
        "    examples[\"pixel_values\"] = [_transforms(img.convert(\"RGB\")) for img in examples[\"image\"]]\n",
        "    del examples[\"image\"]\n",
        "    return examples"
      ],
      "metadata": {
        "id": "lsSUNLs1-WPP"
      },
      "execution_count": 17,
      "outputs": []
    },
    {
      "cell_type": "code",
      "source": [
        "ds = ds.with_transform(transforms)"
      ],
      "metadata": {
        "id": "wTk-HI9M-bvW"
      },
      "execution_count": 18,
      "outputs": []
    },
    {
      "cell_type": "code",
      "source": [
        "import evaluate\n",
        "\n",
        "accuracy = evaluate.load(\"accuracy\")"
      ],
      "metadata": {
        "id": "d8XlZQ-2AGB3",
        "colab": {
          "base_uri": "https://localhost:8080/",
          "height": 49,
          "referenced_widgets": [
            "1d8209598e1a4f90a511a70e196b0d8c",
            "0b2a78b0e74b49c6a7e7dc8c558fd23d",
            "e861fc842cb2446f821e7cf2fa57d344",
            "56af66763019417f9b07a783470d6971",
            "6ce32f0fe55948a7b0de5ba2f08e4211",
            "376040609d4c47efad0040713f398a01",
            "5714f3ef80884c8ab229ed2728cfc5d2",
            "65c0679e019e4b4eb011e13ea55a6587",
            "4398ede0a3654957960c2c2db8f0fab2",
            "f036b949dc794ded90f1a1e6840659eb",
            "1018bca662d4459eacbcccf36a289151"
          ]
        },
        "outputId": "d6acb22b-f006-4c83-8943-cf8c138875f3"
      },
      "execution_count": 19,
      "outputs": [
        {
          "output_type": "display_data",
          "data": {
            "text/plain": [
              "Downloading builder script:   0%|          | 0.00/4.20k [00:00<?, ?B/s]"
            ],
            "application/vnd.jupyter.widget-view+json": {
              "version_major": 2,
              "version_minor": 0,
              "model_id": "1d8209598e1a4f90a511a70e196b0d8c"
            }
          },
          "metadata": {}
        }
      ]
    },
    {
      "cell_type": "code",
      "source": [
        "import numpy as np\n",
        "\n",
        "\n",
        "def compute_metrics(eval_pred):\n",
        "    predictions, labels = eval_pred\n",
        "    predictions = np.argmax(predictions, axis=1)\n",
        "    return accuracy.compute(predictions=predictions, references=labels)"
      ],
      "metadata": {
        "id": "uzU-FL0vAHZn"
      },
      "execution_count": 20,
      "outputs": []
    },
    {
      "cell_type": "code",
      "source": [
        "from transformers import DefaultDataCollator\n",
        "from transformers import TrainingArguments\n",
        "\n",
        "from transformers import Trainer\n",
        "\n",
        "data_collator = DefaultDataCollator()"
      ],
      "metadata": {
        "id": "3YG-Umex-lHW"
      },
      "execution_count": 28,
      "outputs": []
    },
    {
      "cell_type": "code",
      "source": [
        "model = AutoModelForImageClassification.from_pretrained(\n",
        "    checkpoint,\n",
        "    num_labels=len(labels),\n",
        "    id2label=id2label,\n",
        "    label2id=label2id,\n",
        "    ignore_mismatched_sizes=True\n",
        ")\n"
      ],
      "metadata": {
        "id": "jQlLqkRA-pb2",
        "colab": {
          "base_uri": "https://localhost:8080/"
        },
        "outputId": "64540322-0b85-481f-d640-d92db75039a0"
      },
      "execution_count": 29,
      "outputs": [
        {
          "output_type": "stream",
          "name": "stderr",
          "text": [
            "Some weights of ResNetForImageClassification were not initialized from the model checkpoint at microsoft/resnet-50 and are newly initialized because the shapes did not match:\n",
            "- classifier.1.bias: found shape torch.Size([1000]) in the checkpoint and torch.Size([5]) in the model instantiated\n",
            "- classifier.1.weight: found shape torch.Size([1000, 2048]) in the checkpoint and torch.Size([5, 2048]) in the model instantiated\n",
            "You should probably TRAIN this model on a down-stream task to be able to use it for predictions and inference.\n"
          ]
        }
      ]
    },
    {
      "cell_type": "code",
      "source": [
        "training_args = TrainingArguments(\n",
        "    output_dir=\"my__model\",\n",
        "    remove_unused_columns=False,\n",
        "    eval_strategy=\"epoch\",\n",
        "    save_strategy=\"epoch\",\n",
        "    learning_rate=1e-3,\n",
        "    per_device_train_batch_size=64,\n",
        "    gradient_accumulation_steps=1,\n",
        "    per_device_eval_batch_size=64,\n",
        "    num_train_epochs=1,\n",
        "    warmup_ratio=0.1,\n",
        "    logging_steps=50,\n",
        "    load_best_model_at_end=True,\n",
        "    metric_for_best_model=\"accuracy\",\n",
        "    push_to_hub=True,\n",
        "    fp16=True,\n",
        ")"
      ],
      "metadata": {
        "id": "c_L6e9do_dUl"
      },
      "execution_count": 30,
      "outputs": []
    },
    {
      "cell_type": "code",
      "source": [
        "trainer = Trainer(\n",
        "    model=model,\n",
        "    args=training_args,\n",
        "    data_collator=data_collator,\n",
        "    train_dataset=ds[\"train\"],\n",
        "    eval_dataset=ds[\"test\"],\n",
        "    tokenizer=image_processor,\n",
        "    compute_metrics=compute_metrics,\n",
        ")"
      ],
      "metadata": {
        "id": "buP5R1Nt_6N-",
        "colab": {
          "base_uri": "https://localhost:8080/"
        },
        "outputId": "eddd66a2-9617-496c-aec1-712824aad0e7"
      },
      "execution_count": 32,
      "outputs": [
        {
          "output_type": "stream",
          "name": "stderr",
          "text": [
            "/usr/local/lib/python3.10/dist-packages/accelerate/accelerator.py:482: FutureWarning: `torch.cuda.amp.GradScaler(args...)` is deprecated. Please use `torch.amp.GradScaler('cuda', args...)` instead.\n",
            "  self.scaler = torch.cuda.amp.GradScaler(**kwargs)\n"
          ]
        }
      ]
    },
    {
      "cell_type": "code",
      "source": [
        "trainer.train()"
      ],
      "metadata": {
        "id": "Hv-RWW4oB1dm",
        "colab": {
          "base_uri": "https://localhost:8080/",
          "height": 178
        },
        "outputId": "fbcb4407-ac9e-4f3d-bc95-53f775f6400c"
      },
      "execution_count": 33,
      "outputs": [
        {
          "output_type": "display_data",
          "data": {
            "text/plain": [
              "<IPython.core.display.HTML object>"
            ],
            "text/html": [
              "\n",
              "    <div>\n",
              "      \n",
              "      <progress value='104' max='104' style='width:300px; height:20px; vertical-align: middle;'></progress>\n",
              "      [104/104 16:56, Epoch 1/1]\n",
              "    </div>\n",
              "    <table border=\"1\" class=\"dataframe\">\n",
              "  <thead>\n",
              " <tr style=\"text-align: left;\">\n",
              "      <th>Epoch</th>\n",
              "      <th>Training Loss</th>\n",
              "      <th>Validation Loss</th>\n",
              "      <th>Accuracy</th>\n",
              "    </tr>\n",
              "  </thead>\n",
              "  <tbody>\n",
              "    <tr>\n",
              "      <td>1</td>\n",
              "      <td>1.366500</td>\n",
              "      <td>1.343873</td>\n",
              "      <td>0.441889</td>\n",
              "    </tr>\n",
              "  </tbody>\n",
              "</table><p>"
            ]
          },
          "metadata": {}
        },
        {
          "output_type": "execute_result",
          "data": {
            "text/plain": [
              "TrainOutput(global_step=104, training_loss=1.6850271408374493, metrics={'train_runtime': 1043.7355, 'train_samples_per_second': 6.331, 'train_steps_per_second': 0.1, 'total_flos': 1.4036023197174989e+17, 'train_loss': 1.6850271408374493, 'epoch': 1.0})"
            ]
          },
          "metadata": {},
          "execution_count": 33
        }
      ]
    },
    {
      "cell_type": "code",
      "source": [
        "trainer.push_to_hub()\n"
      ],
      "metadata": {
        "colab": {
          "base_uri": "https://localhost:8080/",
          "height": 108
        },
        "id": "dkodz7GkVuVA",
        "outputId": "e9f859da-9c7f-4716-ba0e-9a5e8b279aed"
      },
      "execution_count": 34,
      "outputs": [
        {
          "output_type": "execute_result",
          "data": {
            "text/plain": [
              "CommitInfo(commit_url='https://huggingface.co/sherylshiya/my__model/commit/00e61df3a4b0edbdf24e54cbf9bc0611c78ae723', commit_message='End of training', commit_description='', oid='00e61df3a4b0edbdf24e54cbf9bc0611c78ae723', pr_url=None, pr_revision=None, pr_num=None)"
            ],
            "application/vnd.google.colaboratory.intrinsic+json": {
              "type": "string"
            }
          },
          "metadata": {},
          "execution_count": 34
        }
      ]
    },
    {
      "cell_type": "code",
      "source": [
        "\n",
        "image = ds[\"test\"][0]\n"
      ],
      "metadata": {
        "id": "Y0Y9owdgWByr"
      },
      "execution_count": 50,
      "outputs": []
    },
    {
      "cell_type": "code",
      "source": [
        "image"
      ],
      "metadata": {
        "colab": {
          "base_uri": "https://localhost:8080/"
        },
        "id": "aDXdgH-XbTPu",
        "outputId": "95a6c582-7af1-4d0e-91df-c90a3b029fb9"
      },
      "execution_count": 55,
      "outputs": [
        {
          "output_type": "execute_result",
          "data": {
            "text/plain": [
              "{'label': 0,\n",
              " 'pixel_values': tensor([[[-0.4397, -0.4226, -0.4397,  ..., -0.1828, -0.1828, -0.1828],\n",
              "          [-0.4568, -0.4226, -0.4226,  ..., -0.1999, -0.2171, -0.2342],\n",
              "          [-0.4568, -0.4397, -0.4054,  ..., -0.1999, -0.2171, -0.2513],\n",
              "          ...,\n",
              "          [-0.0116,  0.0398,  0.0056,  ..., -0.6794, -0.6452, -0.6794],\n",
              "          [-0.0116,  0.0056, -0.0287,  ..., -0.6452, -0.6452, -0.6965],\n",
              "          [-0.0458, -0.0629, -0.0629,  ..., -0.6623, -0.6794, -0.6965]],\n",
              " \n",
              "         [[-0.3200, -0.3025, -0.3200,  ..., -0.0574, -0.0574, -0.0574],\n",
              "          [-0.3375, -0.3025, -0.3025,  ..., -0.0749, -0.0924, -0.1099],\n",
              "          [-0.3375, -0.3200, -0.2850,  ..., -0.0749, -0.0924, -0.1275],\n",
              "          ...,\n",
              "          [ 0.1176,  0.1702,  0.1352,  ..., -0.5651, -0.5301, -0.5651],\n",
              "          [ 0.1176,  0.1352,  0.1001,  ..., -0.5301, -0.5301, -0.5826],\n",
              "          [ 0.0826,  0.0651,  0.0651,  ..., -0.5476, -0.5651, -0.5826]],\n",
              " \n",
              "         [[-0.0964, -0.0790, -0.0964,  ...,  0.1651,  0.1651,  0.1651],\n",
              "          [-0.1138, -0.0790, -0.0790,  ...,  0.1476,  0.1302,  0.1128],\n",
              "          [-0.1138, -0.0964, -0.0615,  ...,  0.1476,  0.1302,  0.0953],\n",
              "          ...,\n",
              "          [ 0.3393,  0.3916,  0.3568,  ..., -0.3404, -0.3055, -0.3404],\n",
              "          [ 0.3393,  0.3568,  0.3219,  ..., -0.3055, -0.3055, -0.3578],\n",
              "          [ 0.3045,  0.2871,  0.2871,  ..., -0.3230, -0.3404, -0.3578]]])}"
            ]
          },
          "metadata": {},
          "execution_count": 55
        }
      ]
    },
    {
      "cell_type": "code",
      "source": [
        "img=image[\"pixel_values\"]"
      ],
      "metadata": {
        "id": "LPBZ2RkZbDEE"
      },
      "execution_count": 53,
      "outputs": []
    },
    {
      "cell_type": "code",
      "source": [
        "display(image)"
      ],
      "metadata": {
        "colab": {
          "base_uri": "https://localhost:8080/",
          "height": 264
        },
        "id": "SaXKx0bAZyR1",
        "outputId": "d81cb5fa-126e-4ca0-c55b-b3da4a603d73"
      },
      "execution_count": 46,
      "outputs": [
        {
          "output_type": "display_data",
          "data": {
            "text/plain": [
              "array([[177, 172, 181, ...,  48,  44,  44],\n",
              "       [181, 177, 181, ...,  44,  44,  40],\n",
              "       [177, 177, 181, ...,  40,  40,  35],\n",
              "       ...,\n",
              "       [ 76,  85,  89, ..., 181, 172, 172],\n",
              "       [ 89,  89,  94, ..., 172, 177, 172],\n",
              "       [ 94,  98,  94, ..., 172, 172, 164]], dtype=uint8)"
            ],
            "text/html": [
              "<style>\n",
              "      .ndarray_repr .ndarray_raw_data {\n",
              "        display: none;\n",
              "      }\n",
              "      .ndarray_repr.show_array .ndarray_raw_data {\n",
              "        display: block;\n",
              "      }\n",
              "      .ndarray_repr.show_array .ndarray_image_preview {\n",
              "        display: none;\n",
              "      }\n",
              "      </style>\n",
              "      <div id=\"id-a7a25789-cbf2-4812-924a-47619b72e63b\" class=\"ndarray_repr\"><pre>ndarray (224, 224) <button style=\"padding: 0 2px;\">show data</button></pre><img src=\"data:image/png;base64,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\" class=\"ndarray_image_preview\" /><pre class=\"ndarray_raw_data\">array([[177, 172, 181, ...,  48,  44,  44],\n",
              "       [181, 177, 181, ...,  44,  44,  40],\n",
              "       [177, 177, 181, ...,  40,  40,  35],\n",
              "       ...,\n",
              "       [ 76,  85,  89, ..., 181, 172, 172],\n",
              "       [ 89,  89,  94, ..., 172, 177, 172],\n",
              "       [ 94,  98,  94, ..., 172, 172, 164]], dtype=uint8)</pre></div><script>\n",
              "      (() => {\n",
              "      const titles = ['show data', 'hide data'];\n",
              "      let index = 0\n",
              "      document.querySelector('#id-a7a25789-cbf2-4812-924a-47619b72e63b button').onclick = (e) => {\n",
              "        document.querySelector('#id-a7a25789-cbf2-4812-924a-47619b72e63b').classList.toggle('show_array');\n",
              "        index = (++index) % 2;\n",
              "        document.querySelector('#id-a7a25789-cbf2-4812-924a-47619b72e63b button').textContent = titles[index];\n",
              "        e.preventDefault();\n",
              "        e.stopPropagation();\n",
              "      }\n",
              "      })();\n",
              "    </script>"
            ]
          },
          "metadata": {}
        }
      ]
    },
    {
      "cell_type": "code",
      "source": [
        "from PIL import Image\n",
        "import numpy as np\n",
        "\n",
        "pixel_values = image['pixel_values']\n",
        "\n",
        "image_array = pixel_values.numpy()\n",
        "\n",
        "# Rescale pixel\n",
        "image_array = (image_array + 1) * 127.5\n",
        "image_array = image_array.astype(np.uint8)\n",
        "\n",
        "\n",
        "image_array = image_array.transpose(1, 2, 0)\n",
        "\n",
        "image = Image.fromarray(image_array)"
      ],
      "metadata": {
        "id": "6snJgRXeaM_k"
      },
      "execution_count": 56,
      "outputs": []
    },
    {
      "cell_type": "code",
      "source": [
        "from transformers import pipeline\n",
        "\n",
        "classifier = pipeline(\"image-classification\", model=\"my__model\")\n",
        "classifier(image)"
      ],
      "metadata": {
        "colab": {
          "base_uri": "https://localhost:8080/"
        },
        "id": "jRbdStZKZ5Bo",
        "outputId": "37426e6d-621f-4945-b5ce-c52c92ad962d"
      },
      "execution_count": 57,
      "outputs": [
        {
          "output_type": "stream",
          "name": "stderr",
          "text": [
            "Hardware accelerator e.g. GPU is available in the environment, but no `device` argument is passed to the `Pipeline` object. Model will be on CPU.\n"
          ]
        },
        {
          "output_type": "execute_result",
          "data": {
            "text/plain": [
              "[{'label': '1', 'score': 1.0},\n",
              " {'label': '0', 'score': 8.705698431673573e-39},\n",
              " {'label': '2', 'score': 0.0},\n",
              " {'label': '3', 'score': 0.0},\n",
              " {'label': '4', 'score': 0.0}]"
            ]
          },
          "metadata": {},
          "execution_count": 57
        }
      ]
    },
    {
      "cell_type": "code",
      "source": [],
      "metadata": {
        "id": "1fXOSBvJbhkb"
      },
      "execution_count": null,
      "outputs": []
    }
  ]
}